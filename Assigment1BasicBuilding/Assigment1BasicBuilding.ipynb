{
 "cells": [
  {
   "cell_type": "code",
   "execution_count": 1,
   "id": "c0a39a9c-13fb-402c-b4e4-cf9f97775bd1",
   "metadata": {},
   "outputs": [],
   "source": [
    "#solution of question 1"
   ]
  },
  {
   "cell_type": "code",
   "execution_count": 2,
   "id": "9c169e8f-04fc-4f31-8c91-6e3f23084c52",
   "metadata": {},
   "outputs": [
    {
     "data": {
      "text/plain": [
       "str"
      ]
     },
     "execution_count": 2,
     "metadata": {},
     "output_type": "execute_result"
    }
   ],
   "source": [
    "a = \"Shwetank\"\n",
    "type(a)"
   ]
  },
  {
   "cell_type": "code",
   "execution_count": 3,
   "id": "4076a539-93b1-49db-8bb7-5233e54bceda",
   "metadata": {},
   "outputs": [
    {
     "data": {
      "text/plain": [
       "list"
      ]
     },
     "execution_count": 3,
     "metadata": {},
     "output_type": "execute_result"
    }
   ],
   "source": [
    "b = [1,2,'aku',10.5]\n",
    "type(b)"
   ]
  },
  {
   "cell_type": "code",
   "execution_count": 4,
   "id": "c1a0618e-be8e-4366-8b5a-0b6c07996301",
   "metadata": {},
   "outputs": [
    {
     "data": {
      "text/plain": [
       "float"
      ]
     },
     "execution_count": 4,
     "metadata": {},
     "output_type": "execute_result"
    }
   ],
   "source": [
    "c = 10.5\n",
    "type(c)"
   ]
  },
  {
   "cell_type": "code",
   "execution_count": 5,
   "id": "6982060d-5db4-4d79-a3b5-a493d9cd6df9",
   "metadata": {},
   "outputs": [
    {
     "data": {
      "text/plain": [
       "tuple"
      ]
     },
     "execution_count": 5,
     "metadata": {},
     "output_type": "execute_result"
    }
   ],
   "source": [
    "d = (2,3,\"aku\",6.5)\n",
    "type(d)"
   ]
  },
  {
   "cell_type": "code",
   "execution_count": 6,
   "id": "dfc0464c-a0b0-451e-904b-ef66b2be0872",
   "metadata": {},
   "outputs": [],
   "source": [
    "#solution of question 2\n",
    "var1 = ''\n",
    "var2 = '[ DS , ML , Python]'\n",
    "var3 = ['DS' , 'ML' , 'Python']\n",
    "var4 = 1"
   ]
  },
  {
   "cell_type": "code",
   "execution_count": 8,
   "id": "68a351d2-2ec6-49b5-83aa-a7d9b525c2ce",
   "metadata": {},
   "outputs": [
    {
     "data": {
      "text/plain": [
       "str"
      ]
     },
     "execution_count": 8,
     "metadata": {},
     "output_type": "execute_result"
    }
   ],
   "source": [
    "type(var1)"
   ]
  },
  {
   "cell_type": "code",
   "execution_count": 9,
   "id": "0c1a3992-975d-451d-9a11-2caf327811bc",
   "metadata": {},
   "outputs": [
    {
     "data": {
      "text/plain": [
       "str"
      ]
     },
     "execution_count": 9,
     "metadata": {},
     "output_type": "execute_result"
    }
   ],
   "source": [
    "type(var2)"
   ]
  },
  {
   "cell_type": "code",
   "execution_count": 10,
   "id": "a9a948e8-6e67-4a15-ac06-66e154f9e86b",
   "metadata": {},
   "outputs": [
    {
     "data": {
      "text/plain": [
       "list"
      ]
     },
     "execution_count": 10,
     "metadata": {},
     "output_type": "execute_result"
    }
   ],
   "source": [
    "type(var3)"
   ]
  },
  {
   "cell_type": "code",
   "execution_count": 11,
   "id": "5a788bc8-1cbf-4faa-9e7e-e652c1766da7",
   "metadata": {},
   "outputs": [
    {
     "data": {
      "text/plain": [
       "int"
      ]
     },
     "execution_count": 11,
     "metadata": {},
     "output_type": "execute_result"
    }
   ],
   "source": [
    "type(var4)"
   ]
  },
  {
   "cell_type": "code",
   "execution_count": 12,
   "id": "4417625f-1755-409a-90f2-fe1255a955b5",
   "metadata": {},
   "outputs": [],
   "source": [
    "#solution of question 3\n",
    "a = 10\n",
    "b = 3"
   ]
  },
  {
   "cell_type": "code",
   "execution_count": 13,
   "id": "179e591b-7e54-4a55-ad33-bac89a7d7d12",
   "metadata": {},
   "outputs": [],
   "source": [
    "# use of operator '/'\n",
    "c = a / b #return quetioent in float"
   ]
  },
  {
   "cell_type": "code",
   "execution_count": 14,
   "id": "1a31d116-f149-4172-889b-31791e26f75d",
   "metadata": {},
   "outputs": [
    {
     "data": {
      "text/plain": [
       "3.3333333333333335"
      ]
     },
     "execution_count": 14,
     "metadata": {},
     "output_type": "execute_result"
    }
   ],
   "source": [
    "c"
   ]
  },
  {
   "cell_type": "code",
   "execution_count": 15,
   "id": "f6a65f1b-6026-435b-892b-3c47724f3375",
   "metadata": {},
   "outputs": [],
   "source": [
    "# use of operator '//'\n",
    "c = a // b #return quetioent in int"
   ]
  },
  {
   "cell_type": "code",
   "execution_count": 16,
   "id": "b38969c1-6ca8-4d4f-a4a6-5d6e8cb807be",
   "metadata": {},
   "outputs": [
    {
     "data": {
      "text/plain": [
       "3"
      ]
     },
     "execution_count": 16,
     "metadata": {},
     "output_type": "execute_result"
    }
   ],
   "source": [
    "c"
   ]
  },
  {
   "cell_type": "code",
   "execution_count": 17,
   "id": "49280d46-4607-4e44-8d7f-455765c0e342",
   "metadata": {},
   "outputs": [],
   "source": [
    "# use of operator '%'\n",
    "c = a % b #return remainder"
   ]
  },
  {
   "cell_type": "code",
   "execution_count": 18,
   "id": "8883e6d0-3db7-407e-aa26-16e8acd7e4dd",
   "metadata": {},
   "outputs": [
    {
     "data": {
      "text/plain": [
       "1"
      ]
     },
     "execution_count": 18,
     "metadata": {},
     "output_type": "execute_result"
    }
   ],
   "source": [
    "c"
   ]
  },
  {
   "cell_type": "code",
   "execution_count": 19,
   "id": "6434d880-f33f-4821-be3e-e0b9f55b5b2c",
   "metadata": {},
   "outputs": [],
   "source": [
    "# use of operator '**'\n",
    "c = a ** b #return power of a to b"
   ]
  },
  {
   "cell_type": "code",
   "execution_count": 20,
   "id": "e48805c5-2ea6-41a0-9a8e-f23095bfab50",
   "metadata": {},
   "outputs": [
    {
     "data": {
      "text/plain": [
       "1000"
      ]
     },
     "execution_count": 20,
     "metadata": {},
     "output_type": "execute_result"
    }
   ],
   "source": [
    "c"
   ]
  },
  {
   "cell_type": "code",
   "execution_count": 21,
   "id": "218a6ace-7668-447b-98d8-ad06f3ac1fe5",
   "metadata": {},
   "outputs": [],
   "source": [
    "#solution of question 4\n",
    "a = [1,2.4,\"aku\",True,[1,2,3],(1,2,3),{},{1,2},'a','[1,2,3]']"
   ]
  },
  {
   "cell_type": "code",
   "execution_count": 22,
   "id": "8a223a52-457c-4c6a-b796-f423951d3e6a",
   "metadata": {},
   "outputs": [
    {
     "data": {
      "text/plain": [
       "list"
      ]
     },
     "execution_count": 22,
     "metadata": {},
     "output_type": "execute_result"
    }
   ],
   "source": [
    "type(a)"
   ]
  },
  {
   "cell_type": "code",
   "execution_count": 25,
   "id": "aad4d1cc-ed2b-4986-90a2-e7046719626e",
   "metadata": {},
   "outputs": [
    {
     "data": {
      "text/plain": [
       "10"
      ]
     },
     "execution_count": 25,
     "metadata": {},
     "output_type": "execute_result"
    }
   ],
   "source": [
    "len(a)"
   ]
  },
  {
   "cell_type": "code",
   "execution_count": 27,
   "id": "bc51c3e8-24f4-4f76-9067-93df1d7b187c",
   "metadata": {},
   "outputs": [
    {
     "name": "stdout",
     "output_type": "stream",
     "text": [
      "1\n",
      "<class 'int'>\n",
      "2.4\n",
      "<class 'float'>\n",
      "aku\n",
      "<class 'str'>\n",
      "True\n",
      "<class 'bool'>\n",
      "[1, 2, 3]\n",
      "<class 'list'>\n",
      "(1, 2, 3)\n",
      "<class 'tuple'>\n",
      "{}\n",
      "<class 'dict'>\n",
      "{1, 2}\n",
      "<class 'set'>\n",
      "a\n",
      "<class 'str'>\n",
      "[1,2,3]\n",
      "<class 'str'>\n"
     ]
    }
   ],
   "source": [
    "for i in a:\n",
    "    print(i)\n",
    "    print(type(i))"
   ]
  },
  {
   "cell_type": "code",
   "execution_count": 5,
   "id": "8930bc0b-1c16-4862-85d4-a8f9c7d6108e",
   "metadata": {},
   "outputs": [
    {
     "name": "stdin",
     "output_type": "stream",
     "text": [
      "Enter the value of a:  10\n",
      "Enter the value of b:  2\n"
     ]
    },
    {
     "name": "stdout",
     "output_type": "stream",
     "text": [
      "divisible of a by b is 1\n"
     ]
    }
   ],
   "source": [
    "#solution of question 5\n",
    "a = int(input(\"Enter the value of a: \"))\n",
    "b = int(input(\"Enter the value of b: \"))\n",
    "\n",
    "count = 0\n",
    "\n",
    "while a % b == 0:\n",
    "    a = a // b\n",
    "    count += 1\n",
    "\n",
    "print(\"divisible of a by b is\", count)\n",
    "\n",
    "    "
   ]
  },
  {
   "cell_type": "code",
   "execution_count": 10,
   "id": "eda0fb61-7082-4abb-89e2-45fa2636ba71",
   "metadata": {},
   "outputs": [
    {
     "name": "stdout",
     "output_type": "stream",
     "text": [
      "0 is divisible by 3\n",
      "1 is not divisible by 3\n",
      "2 is not divisible by 3\n",
      "3 is divisible by 3\n",
      "4 is not divisible by 3\n",
      "5 is not divisible by 3\n",
      "6 is divisible by 3\n",
      "7 is not divisible by 3\n",
      "8 is not divisible by 3\n",
      "9 is divisible by 3\n",
      "10 is not divisible by 3\n",
      "11 is not divisible by 3\n",
      "12 is divisible by 3\n",
      "13 is not divisible by 3\n",
      "14 is not divisible by 3\n",
      "15 is divisible by 3\n",
      "16 is not divisible by 3\n",
      "17 is not divisible by 3\n",
      "18 is divisible by 3\n",
      "19 is not divisible by 3\n",
      "20 is not divisible by 3\n",
      "21 is divisible by 3\n",
      "22 is not divisible by 3\n",
      "23 is not divisible by 3\n",
      "24 is divisible by 3\n"
     ]
    }
   ],
   "source": [
    "#solution of question 6\n",
    "l = list(range(25))\n",
    "for i in l:\n",
    "    if(i % 3 ==0):\n",
    "      print(i,\"is divisible by 3\")\n",
    "    else:\n",
    "       print(i,\"is not divisible by 3\")\n",
    "    "
   ]
  },
  {
   "cell_type": "code",
   "execution_count": null,
   "id": "8563be1c-b805-4c42-b549-73d524c7f434",
   "metadata": {},
   "outputs": [],
   "source": [
    "#solution of question 7:-\n",
    "\"\"\"\n",
    "mutable :- the value can be change.\n",
    "immutable :- value can't be change.\"\"\""
   ]
  },
  {
   "cell_type": "code",
   "execution_count": 12,
   "id": "f98213a0-8923-4dc1-8fc8-8671385e2ea7",
   "metadata": {},
   "outputs": [],
   "source": [
    "a = [1,2,3]"
   ]
  },
  {
   "cell_type": "code",
   "execution_count": 13,
   "id": "84d68d5a-e287-4ebf-9dd8-606d4c0d6f13",
   "metadata": {},
   "outputs": [
    {
     "data": {
      "text/plain": [
       "1"
      ]
     },
     "execution_count": 13,
     "metadata": {},
     "output_type": "execute_result"
    }
   ],
   "source": [
    "a[0]"
   ]
  },
  {
   "cell_type": "code",
   "execution_count": null,
   "id": "ef80dfab-81d2-4470-80ab-5325eed9d33e",
   "metadata": {},
   "outputs": [],
   "source": []
  }
 ],
 "metadata": {
  "kernelspec": {
   "display_name": "Python 3 (ipykernel)",
   "language": "python",
   "name": "python3"
  },
  "language_info": {
   "codemirror_mode": {
    "name": "ipython",
    "version": 3
   },
   "file_extension": ".py",
   "mimetype": "text/x-python",
   "name": "python",
   "nbconvert_exporter": "python",
   "pygments_lexer": "ipython3",
   "version": "3.10.8"
  }
 },
 "nbformat": 4,
 "nbformat_minor": 5
}
