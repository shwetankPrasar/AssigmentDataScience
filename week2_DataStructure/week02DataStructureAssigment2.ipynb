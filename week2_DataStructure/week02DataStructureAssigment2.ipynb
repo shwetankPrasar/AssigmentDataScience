{
 "cells": [
  {
   "cell_type": "code",
   "execution_count": null,
   "id": "fe30d17d-7f4c-462c-a824-516662e2f845",
   "metadata": {},
   "outputs": [],
   "source": [
    "\"\"\"solution of que1:-\n",
    "    comment can be done using two types\n",
    "    i.single line comment (using # or ## symbol)\n",
    "    ii.Multi line comment( using \"\"\"   \"\"\")\n",
    "\"\"\""
   ]
  },
  {
   "cell_type": "code",
   "execution_count": 26,
   "id": "c5430ec7-3c30-4144-a46d-84f4301c1c32",
   "metadata": {},
   "outputs": [],
   "source": [
    "##single line comment"
   ]
  },
  {
   "cell_type": "code",
   "execution_count": 29,
   "id": "8e3e683e-2ae2-472f-aee5-e097b677d7f5",
   "metadata": {},
   "outputs": [
    {
     "name": "stdout",
     "output_type": "stream",
     "text": [
      "multi line comment\n"
     ]
    }
   ],
   "source": [
    "\"\"\"multi\n",
    "line \n",
    "comment \"\"\"\n",
    "print(\"multi line comment\")"
   ]
  },
  {
   "cell_type": "code",
   "execution_count": 34,
   "id": "81ffc637-a172-4b5c-9add-13e76466e572",
   "metadata": {},
   "outputs": [
    {
     "name": "stdout",
     "output_type": "stream",
     "text": [
      "Shwetank Kumar\n"
     ]
    }
   ],
   "source": [
    "\"\"\"solution of que2:-\n",
    "   variables are containers for storing data values.\n",
    "   assign value in variable- \"\"\"\n",
    "a = \"Shwetank Kumar\"\n",
    "print(a)"
   ]
  },
  {
   "cell_type": "code",
   "execution_count": 31,
   "id": "2defe1aa-cc85-4aec-b166-2d976929ce29",
   "metadata": {},
   "outputs": [
    {
     "data": {
      "text/plain": [
       "int"
      ]
     },
     "execution_count": 31,
     "metadata": {},
     "output_type": "execute_result"
    }
   ],
   "source": [
    "\"\"\"solution of que3:-\n",
    "   we convert one data type to another using typecast \n",
    "   e.g.,\"\"\"\n",
    "a = 10 #a is integer type\n",
    "type(a)  "
   ]
  },
  {
   "cell_type": "code",
   "execution_count": 32,
   "id": "fd2a7c51-dba2-4aa3-be05-fed4370f252f",
   "metadata": {},
   "outputs": [
    {
     "data": {
      "text/plain": [
       "str"
      ]
     },
     "execution_count": 32,
     "metadata": {},
     "output_type": "execute_result"
    }
   ],
   "source": [
    "a = str(a)\n",
    "type(a) #a is string  type"
   ]
  },
  {
   "cell_type": "code",
   "execution_count": null,
   "id": "c8f07081-3f0a-47a4-a66d-a4ee384799a0",
   "metadata": {},
   "outputs": [],
   "source": [
    "#solution of que4\n",
    "\"\"\"\n",
    "python execute using command line using following steps:\n",
    "i. go to the path where python progrmme is exits.\n",
    "ii. execute python progrm using \"py file_name.py\".\n",
    "iii.python programme run successfully.\n",
    "\"\"\""
   ]
  },
  {
   "cell_type": "code",
   "execution_count": 21,
   "id": "b2761c62-8e64-4965-96f0-c66d7da24887",
   "metadata": {},
   "outputs": [
    {
     "data": {
      "text/plain": [
       "[2, 3]"
      ]
     },
     "execution_count": 21,
     "metadata": {},
     "output_type": "execute_result"
    }
   ],
   "source": [
    "#solution of que5:-\n",
    "my_list = [1, 2, 3, 4, 5]\n",
    "my_list[1:3]\n"
   ]
  },
  {
   "cell_type": "code",
   "execution_count": null,
   "id": "5c8e0ea1-dc1c-4b09-ae20-56cf7fcd16ed",
   "metadata": {},
   "outputs": [],
   "source": [
    "#solution of que6:-\n",
    "#complex number is a combinational of real part and imaginary part\n",
    "\"\"\" represent by \n",
    "a+bj (where a,b is integer)\n",
    "\"\"\""
   ]
  },
  {
   "cell_type": "code",
   "execution_count": 35,
   "id": "12171a85-ae4c-4540-91bd-2c997747d9c8",
   "metadata": {},
   "outputs": [
    {
     "data": {
      "text/plain": [
       "complex"
      ]
     },
     "execution_count": 35,
     "metadata": {},
     "output_type": "execute_result"
    }
   ],
   "source": [
    "a = 10 + 5j\n",
    "type(a)"
   ]
  },
  {
   "cell_type": "code",
   "execution_count": 36,
   "id": "d9f159a4-767a-41a0-83da-fbd202e1d3e3",
   "metadata": {},
   "outputs": [],
   "source": [
    "#solution of que7:-\n",
    "age = 25"
   ]
  },
  {
   "cell_type": "code",
   "execution_count": 38,
   "id": "551b71e7-7b2b-48f7-8002-51d2947437bb",
   "metadata": {},
   "outputs": [
    {
     "data": {
      "text/plain": [
       "float"
      ]
     },
     "execution_count": 38,
     "metadata": {},
     "output_type": "execute_result"
    }
   ],
   "source": [
    "#solution of que8:-\n",
    "price = 9.99\n",
    "type(price)"
   ]
  },
  {
   "cell_type": "code",
   "execution_count": 39,
   "id": "94828863-e828-4963-8ab8-3262961cc23f",
   "metadata": {},
   "outputs": [
    {
     "data": {
      "text/plain": [
       "'Shwetank Kumar'"
      ]
     },
     "execution_count": 39,
     "metadata": {},
     "output_type": "execute_result"
    }
   ],
   "source": [
    "#solution of que9:-\n",
    "name = \"Shwetank Kumar\"\n",
    "name"
   ]
  },
  {
   "cell_type": "code",
   "execution_count": 43,
   "id": "39fdc6f3-09ae-4266-849f-78f0d670aa98",
   "metadata": {},
   "outputs": [
    {
     "data": {
      "text/plain": [
       "'World'"
      ]
     },
     "execution_count": 43,
     "metadata": {},
     "output_type": "execute_result"
    }
   ],
   "source": [
    "#solution of que10:-\n",
    "a = \"Hello,World!\"\n",
    "a[6:11]"
   ]
  },
  {
   "cell_type": "code",
   "execution_count": 45,
   "id": "1f375813-f58c-4d73-818c-19f6bbbb9035",
   "metadata": {},
   "outputs": [
    {
     "name": "stdin",
     "output_type": "stream",
     "text": [
      "are you student True of False:- True\n"
     ]
    }
   ],
   "source": [
    "#solution of que11:-\n",
    "is_student = input(\"are you student True of False:-\")"
   ]
  },
  {
   "cell_type": "code",
   "execution_count": 47,
   "id": "a01d44f0-85c1-4763-aadf-f04b3e5b7be1",
   "metadata": {},
   "outputs": [
    {
     "data": {
      "text/plain": [
       "'True'"
      ]
     },
     "execution_count": 47,
     "metadata": {},
     "output_type": "execute_result"
    }
   ],
   "source": [
    "is_student"
   ]
  },
  {
   "cell_type": "code",
   "execution_count": 48,
   "id": "b01f57bc-365f-4d43-9c19-de078ea82abb",
   "metadata": {},
   "outputs": [
    {
     "name": "stdin",
     "output_type": "stream",
     "text": [
      "are you student True of False:- False\n"
     ]
    }
   ],
   "source": [
    "is_student = input(\"are you student True of False:-\")"
   ]
  },
  {
   "cell_type": "code",
   "execution_count": 49,
   "id": "8e996f91-1bf7-4c2d-adc6-88b36b9674f8",
   "metadata": {},
   "outputs": [
    {
     "data": {
      "text/plain": [
       "'False'"
      ]
     },
     "execution_count": 49,
     "metadata": {},
     "output_type": "execute_result"
    }
   ],
   "source": [
    "is_student"
   ]
  },
  {
   "cell_type": "code",
   "execution_count": null,
   "id": "8ee6ff45-995c-42e0-b873-5c33c4c3becf",
   "metadata": {},
   "outputs": [],
   "source": []
  }
 ],
 "metadata": {
  "kernelspec": {
   "display_name": "Python 3 (ipykernel)",
   "language": "python",
   "name": "python3"
  },
  "language_info": {
   "codemirror_mode": {
    "name": "ipython",
    "version": 3
   },
   "file_extension": ".py",
   "mimetype": "text/x-python",
   "name": "python",
   "nbconvert_exporter": "python",
   "pygments_lexer": "ipython3",
   "version": "3.10.8"
  }
 },
 "nbformat": 4,
 "nbformat_minor": 5
}
