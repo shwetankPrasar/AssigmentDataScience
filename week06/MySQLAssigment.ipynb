{
 "cells": [
  {
   "cell_type": "markdown",
   "id": "f3b6fffe-593c-4f4a-b09e-a9f12daf3756",
   "metadata": {},
   "source": [
    "Q1. What is a database? Differentiate between SQL and NoSQL databases."
   ]
  },
  {
   "cell_type": "markdown",
   "id": "73721929-0a80-48e9-b4ed-dac1fa5a7135",
   "metadata": {},
   "source": [
    "Database:\n",
    "A database is a digital container where we organize and manage data and information.\n",
    "\n",
    "SQL(Structured Query Language) Databases:\n",
    "\n",
    "Structure: Information is organized like a well-structured with rows and columns.                                         \n",
    "Schema: It follows a predefined blueprint, like having a plan for how data should be arranged.                         \n",
    "Consistency: Data is always reliable and follows strict rules for accuracy.                       \n",
    "Scalability: It scales up by making the existing server more powerful.                     \n",
    "Examples: MySQL, PostgreSQL, Oracle, SQL Server.                         \n",
    "\n",
    "NoSQL(Not Only Structured Query Language) Databases:\n",
    "\n",
    "Structure: Information is stored in a flexible way, like throwing data into a versatile container.                    \n",
    "Schema: It's flexible, allowing the addition of information without a predefined plan.                       \n",
    "Consistency: It may prioritize speed and flexibility over strict rules, allowing for some variability in data.                  \n",
    "Scalability: It scales out by adding more servers to handle larger amounts of data.                                \n",
    "Examples: MongoDB, Cassandra, CouchDB, Redis.  \n",
    "\n",
    "\n",
    "\n",
    "\n",
    "\n",
    "\n",
    "\n",
    "\n",
    "."
   ]
  },
  {
   "cell_type": "markdown",
   "id": "fcf246a6-c941-4a0b-88b4-33051f834158",
   "metadata": {},
   "source": [
    "Q2. What is DDL? Explain why CREATE, DROP, ALTER, and TRUNCATE are used with an example."
   ]
  },
  {
   "cell_type": "markdown",
   "id": "23e8e7b7-a243-49f7-92ec-a40aac8a3ad7",
   "metadata": {},
   "source": [
    "DDL stands for Data Definition Language, and it is a subset of SQL (Structured Query Language) used to define and manage the structure of a database. DDL statements are responsible for defining and managing database objects such as tables, indexes, and constraints.\n",
    "\n",
    "CREATE:\n",
    "\n",
    "Purpose: Used to create a new database, table, index, or other database objects."
   ]
  },
  {
   "cell_type": "raw",
   "id": "c2a4174e-0265-4518-bc0e-eb8ab4acf754",
   "metadata": {},
   "source": [
    "CREATE TABLE employees (\n",
    "    emp_id INT PRIMARY KEY,\n",
    "    emp_name VARCHAR(50),\n",
    "    emp_salary DECIMAL(10,2)\n",
    ");\n"
   ]
  },
  {
   "cell_type": "markdown",
   "id": "04d002d3-dbbd-46c6-8e12-0de5f02bb7db",
   "metadata": {},
   "source": [
    "DROP:\n",
    "\n",
    "Purpose: Used to delete an existing database, table, index, or other database objects."
   ]
  },
  {
   "cell_type": "raw",
   "id": "2bb70577-f288-4300-8b7d-ff2e04981d0f",
   "metadata": {},
   "source": [
    "DROP TABLE employees;"
   ]
  },
  {
   "cell_type": "markdown",
   "id": "04520ca6-1f62-438b-b0a8-ac26e568bf5c",
   "metadata": {},
   "source": [
    "ALTER:\n",
    "\n",
    "Purpose: Used to modify the structure of an existing database object, such as adding, modifying, or dropping columns in a table."
   ]
  },
  {
   "cell_type": "raw",
   "id": "b1d7aafd-f8f9-4df0-ac72-0fdebe2e8412",
   "metadata": {},
   "source": [
    "ALTER TABLE employees\n",
    "ADD COLUMN emp_department VARCHAR(30);"
   ]
  },
  {
   "cell_type": "markdown",
   "id": "918ad6e8-764e-4d47-9d55-36143e2a2691",
   "metadata": {},
   "source": [
    "TRUNCATE:\n",
    "\n",
    "Purpose: Used to remove all rows from a table while retaining the structure for future use."
   ]
  },
  {
   "cell_type": "raw",
   "id": "ee4d75bd-9bbd-457d-af5e-6b9af4d5dd1a",
   "metadata": {},
   "source": [
    "TRUNCATE TABLE employees;"
   ]
  },
  {
   "cell_type": "markdown",
   "id": "a64b33d5-b395-4675-ab5d-d1eee8acb0d2",
   "metadata": {},
   "source": [
    "Q3. What is DML? Explain INSERT, UPDATE, and DELETE with an example."
   ]
  },
  {
   "cell_type": "markdown",
   "id": "285e377d-72fa-4268-aeb5-6f4c33015819",
   "metadata": {},
   "source": [
    "DML deals with the manipulation of data stored in the database.\n",
    "\n",
    "INSERT: Adds new records to a table.\n",
    "UPDATE: Modifies existing records in a table.\n",
    "DELETE: Removes records from a table.\n",
    "\n",
    "-- INSERT new records\n",
    "INSERT INTO Students (student_id, student_name, age)\n",
    "VALUES (1, 'Ankush Singh', 20),\n",
    "       (2, 'Anku', 22);\n",
    "\n",
    "-- UPDATE records\n",
    "UPDATE Students\n",
    "SET age = 21\n",
    "WHERE student_id = 1;\n",
    "\n",
    "-- DELETE records\n",
    "DELETE FROM Students\n",
    "WHERE student_id = 2;\n"
   ]
  },
  {
   "cell_type": "markdown",
   "id": "895fb7a3-2544-4fb6-ba4e-367939b3e9c3",
   "metadata": {},
   "source": [
    "Q4. What is DQL? Explain SELECT with an example."
   ]
  },
  {
   "cell_type": "markdown",
   "id": "a3faf092-a34c-4144-8f99-9e54aaf41ab4",
   "metadata": {},
   "source": [
    "DQL stands for Data Query Language, which is a component of SQL (Structured Query Language) that is used to retrieve data from a database. The main DQL command is SELECT, which allows you to specify the columns and tables you want to query, as well as any conditions or filters you want to apply.\n",
    "\n",
    "\n",
    "\n",
    "\n",
    "SELECT * FROM Students;\n"
   ]
  },
  {
   "cell_type": "markdown",
   "id": "30856280-c7bb-423b-a9d6-162784b849b8",
   "metadata": {},
   "source": [
    "Q5. Explain Primary Key and Foreign Key."
   ]
  },
  {
   "cell_type": "markdown",
   "id": "35b686b3-08d8-4742-8e28-bc238e2f9880",
   "metadata": {},
   "source": [
    "A primary key is a column or a set of columns that uniquely identifies each row in a table. A primary key cannot have null or duplicate values. \n",
    "\n",
    "\n",
    "A foreign key is a column or a set of columns that references the primary key of another table. A foreign key establishes a relationship between two tables and enforces referential integrity."
   ]
  },
  {
   "cell_type": "markdown",
   "id": "f57a04bc-2ac0-437c-8c00-589454ea91fe",
   "metadata": {},
   "source": [
    "Q6. Write a python code to connect MySQL to python. Explain the cursor() and execute() method."
   ]
  },
  {
   "cell_type": "code",
   "execution_count": null,
   "id": "47cf1fec-8354-4a28-9d15-6f6e919560ea",
   "metadata": {},
   "outputs": [],
   "source": [
    "import mysql.connector\n",
    "mydb = mysql.connector.connect(\n",
    "  host=\"localhost\",\n",
    "  user=\"yourusername\",\n",
    "  password=\"yourpassword\",\n",
    "  database=\"yourdatabase\"\n",
    ")\n"
   ]
  },
  {
   "cell_type": "markdown",
   "id": "5b108c3e-0ed4-499d-af0c-d604a58a1096",
   "metadata": {},
   "source": [
    "cursor(): cursor is used to interact with the MySQL database. The cursor acts as a pointer or handle to the database.\n",
    "execute(query):using execute , instructing the database to execute the SQL query ."
   ]
  },
  {
   "cell_type": "markdown",
   "id": "e977f545-5744-47eb-954b-d5326ed4652f",
   "metadata": {},
   "source": [
    "Q7. Give the order of execution of SQL clauses in an SQL query."
   ]
  },
  {
   "cell_type": "markdown",
   "id": "768184b7-6bd9-4633-916d-dcf684524f72",
   "metadata": {},
   "source": [
    "FROM: Specify where you are getting your ingredients (data) from, like mentioning the table.\n",
    "\n",
    "WHERE: Filter out the ingredients you want based on specific criteria, like choosing only certain rows.\n",
    "\n",
    "GROUP BY: Group similar ingredients together, like grouping all the tomatoes.\n",
    "\n",
    "HAVING: Decide if you want to keep or discard a group based on certain conditions, like deciding to keep a group of tomatoes only if they are ripe.\n",
    "\n",
    "SELECT: Choose the specific ingredients you want to work with, like selecting only the tomatoes from the group.\n",
    "\n",
    "ORDER BY: Arrange the final dish (result set) in a specific order, like sorting the tomatoes by size."
   ]
  }
 ],
 "metadata": {
  "kernelspec": {
   "display_name": "Python 3 (ipykernel)",
   "language": "python",
   "name": "python3"
  },
  "language_info": {
   "codemirror_mode": {
    "name": "ipython",
    "version": 3
   },
   "file_extension": ".py",
   "mimetype": "text/x-python",
   "name": "python",
   "nbconvert_exporter": "python",
   "pygments_lexer": "ipython3",
   "version": "3.10.8"
  }
 },
 "nbformat": 4,
 "nbformat_minor": 5
}
