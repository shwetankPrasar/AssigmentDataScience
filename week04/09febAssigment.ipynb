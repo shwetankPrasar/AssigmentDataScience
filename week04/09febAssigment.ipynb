{
 "cells": [
  {
   "cell_type": "markdown",
   "id": "01b090f7-3194-46b5-91bd-698f7d68d93d",
   "metadata": {},
   "source": [
    "Q1, Create a vehicle class with an init method having instance variables as name_of_vehicle, max_speed\r\n",
    "and average_of_vehicle.\n"
   ]
  },
  {
   "cell_type": "code",
   "execution_count": 3,
   "id": "801b8335-b2cf-4e6f-b438-b5f90542d317",
   "metadata": {},
   "outputs": [
    {
     "name": "stdout",
     "output_type": "stream",
     "text": [
      "Vehicle: Alto, Max Speed: 120 km/h, Average: 15 km/l\n"
     ]
    }
   ],
   "source": [
    "class Vehicle:\n",
    "    def __init__(self, name_of_vehicle, max_speed, average_of_vehicle):\n",
    "        self.name_of_vehicle = name_of_vehicle\n",
    "        self.max_speed = max_speed\n",
    "        self.average_of_vehicle = average_of_vehicle\n",
    "\n",
    "car = Vehicle(\"Alto\", 120, 15)\n",
    "print(f\"Vehicle: {car.name_of_vehicle}, Max Speed: {car.max_speed} km/h, Average: {car.average_of_vehicle} km/l\")\n"
   ]
  },
  {
   "cell_type": "markdown",
   "id": "196a0119-2767-4893-9f64-964219ed4d7f",
   "metadata": {},
   "source": [
    "Q2. Create a child class car from the vehicle class created in Que 1, which will inherit the vehicle class.\n",
    "Create a method named seating_capacity which takes capacity as an argument and returns the name of\n",
    "the vehicle and its seating capacity."
   ]
  },
  {
   "cell_type": "code",
   "execution_count": 7,
   "id": "9c5c41d5-5357-4b01-83b3-251b42dc2a9d",
   "metadata": {},
   "outputs": [
    {
     "name": "stdout",
     "output_type": "stream",
     "text": [
      "The Sedan has a seating capacity of 5.with Max Speed: 100 km/h, Average: 18 km/l\n"
     ]
    }
   ],
   "source": [
    "class Vehicle:\n",
    "    def __init__(self, name_of_vehicle, max_speed, average_of_vehicle):\n",
    "        self.name_of_vehicle = name_of_vehicle\n",
    "        self.max_speed = max_speed\n",
    "        self.average_of_vehicle = average_of_vehicle\n",
    "\n",
    "class Car(Vehicle):\n",
    "    def seating_capacity(self, capacity):\n",
    "        return f\"The {self.name_of_vehicle} has a seating capacity of {capacity}.with Max Speed: {car.max_speed} km/h, Average: {car.average_of_vehicle} km/l\"\n",
    "\n",
    "\n",
    "car = Car(\"Sedan\", 100, 18)\n",
    "print(car.seating_capacity(5))\n"
   ]
  },
  {
   "cell_type": "markdown",
   "id": "88c7ccf9-1948-4d15-8540-2894a4a09a5b",
   "metadata": {},
   "source": [
    "Q3. What is multiple inheritance? Write a python code to demonstrate multiple inheritance."
   ]
  },
  {
   "cell_type": "markdown",
   "id": "52095ec9-6465-455f-a8d7-66a20d326a73",
   "metadata": {},
   "source": [
    "Multiple inheritance is a feature in object-oriented programming where a class can inherit attributes and methods from more than one parent class. This allows a child class to inherit functionality from multiple base classes."
   ]
  },
  {
   "cell_type": "code",
   "execution_count": 8,
   "id": "5ce2340e-f439-49fa-bd6a-5829ef50ac61",
   "metadata": {},
   "outputs": [
    {
     "name": "stdout",
     "output_type": "stream",
     "text": [
      "Thar engine started.\n",
      "This vehicle has 4 wheels.\n",
      "Ford car with Thar engine and 4 wheels.\n"
     ]
    }
   ],
   "source": [
    "class Engine:\n",
    "    def __init__(self, engine_type):\n",
    "        self.engine_type = engine_type\n",
    "\n",
    "    def start_engine(self):\n",
    "        return f\"{self.engine_type} engine started.\"\n",
    "\n",
    "\n",
    "class Wheels:\n",
    "    def __init__(self, number_of_wheels):\n",
    "        self.number_of_wheels = number_of_wheels\n",
    "\n",
    "    def wheel_count(self):\n",
    "        return f\"This vehicle has {self.number_of_wheels} wheels.\"\n",
    "\n",
    "\n",
    "class Car(Engine, Wheels):\n",
    "    def __init__(self, engine_type, number_of_wheels, brand):\n",
    "        Engine.__init__(self, engine_type)\n",
    "        Wheels.__init__(self, number_of_wheels)\n",
    "        self.brand = brand\n",
    "\n",
    "    def car_details(self):\n",
    "        return f\"{self.brand} car with {self.engine_type} engine and {self.number_of_wheels} wheels.\"\n",
    "\n",
    "\n",
    "my_car = Car(\"Thar\", 4, \"Ford\")\n",
    "print(my_car.start_engine())       \n",
    "print(my_car.wheel_count())         \n",
    "print(my_car.car_details())         "
   ]
  },
  {
   "cell_type": "markdown",
   "id": "3c960fbc-4b65-47df-8705-25ecbe935e9b",
   "metadata": {},
   "source": [
    "Q4. What are getter and setter in python? Create a class and create a getter and a setter method in this\r\n",
    "class."
   ]
  },
  {
   "cell_type": "markdown",
   "id": "83c6d6e7-ae07-47cb-8792-cd91a4376131",
   "metadata": {},
   "source": [
    "Getter: Used to get the value of an attribute.\n",
    "Setter: Used to set or modify the value of an attribute.\n",
    "we can use the @property decorator for a getter and @<property_name>.setter decorator for a setter."
   ]
  },
  {
   "cell_type": "code",
   "execution_count": 16,
   "id": "b5757f18-9529-4e13-a8b5-3ece2294c8e8",
   "metadata": {},
   "outputs": [
    {
     "name": "stdout",
     "output_type": "stream",
     "text": [
      "After getter function called => Shwetank Kumar\n",
      "After setter function called => Ankush Singh\n"
     ]
    }
   ],
   "source": [
    "class Person:\n",
    "    def __init__(self, name):\n",
    "        self._name = name  # Private attribute with underscore\n",
    "\n",
    "    # Getter method\n",
    "    @property\n",
    "    def name(self):\n",
    "        return self._name\n",
    "\n",
    "    # Setter method \n",
    "    @name.setter\n",
    "    def name(self, value):\n",
    "        if isinstance(value, str) and len(value) > 0:\n",
    "            self._name = value\n",
    "        else:\n",
    "            raise ValueError(\"Name must be a non-empty string\")\n",
    "\n",
    "# Example usage:\n",
    "person = Person(\"Shwetank Kumar\")\n",
    "\n",
    "\n",
    "print(f'After getter function called => {person.name}')  \n",
    "\n",
    "\n",
    "person.name = \"Ankush Singh\"\n",
    "print(f'After setter function called => {person.name}')   \n",
    "\n"
   ]
  },
  {
   "cell_type": "markdown",
   "id": "7fb1dfa2-db31-4cf5-9318-d072a0d5f234",
   "metadata": {},
   "source": [
    "Q5.What is method overriding in python? Write a python code to demonstrate method overriding."
   ]
  },
  {
   "cell_type": "markdown",
   "id": "1d138ae9-39b6-4ce9-82c0-2897746f2991",
   "metadata": {},
   "source": [
    "Method overriding in Python occurs when a subclass provides a specific implementation of a method that is already defined in its parent class. The method in the child class overrides the version in the parent class, allowing the child class to provide its own behavior while retaining the same method signature."
   ]
  },
  {
   "cell_type": "code",
   "execution_count": 18,
   "id": "a22eedaf-d96f-4179-9c75-52ec5a510b0e",
   "metadata": {},
   "outputs": [
    {
     "name": "stdout",
     "output_type": "stream",
     "text": [
      "Some generic animal sound\n",
      "Dog Sound Bark\n",
      "After overriding the Sound Method\n",
      "cat Sound Meow\n"
     ]
    }
   ],
   "source": [
    "# Parent class\n",
    "class Animal:\n",
    "    def sound(self):\n",
    "        return \"Some generic animal sound\"\n",
    "\n",
    "# Child class\n",
    "class Dog(Animal):\n",
    "    # Overriding the sound method\n",
    "    def sound(self):\n",
    "        return \"Bark\"\n",
    "\n",
    "# Child class\n",
    "class Cat(Animal):\n",
    "    # Overriding the sound method\n",
    "    def sound(self):\n",
    "        return \"Meow\"\n",
    "\n",
    "\n",
    "generic_animal = Animal()\n",
    "dog = Dog()\n",
    "cat = Cat()\n",
    "\n",
    "print(generic_animal.sound()) \n",
    "print(f'Dog Sound {dog.sound()}')    \n",
    "print('After overriding the Sound Method')\n",
    "print(f'cat Sound {cat.sound()}')             \n"
   ]
  }
 ],
 "metadata": {
  "kernelspec": {
   "display_name": "Python 3 (ipykernel)",
   "language": "python",
   "name": "python3"
  },
  "language_info": {
   "codemirror_mode": {
    "name": "ipython",
    "version": 3
   },
   "file_extension": ".py",
   "mimetype": "text/x-python",
   "name": "python",
   "nbconvert_exporter": "python",
   "pygments_lexer": "ipython3",
   "version": "3.11.9"
  }
 },
 "nbformat": 4,
 "nbformat_minor": 5
}
