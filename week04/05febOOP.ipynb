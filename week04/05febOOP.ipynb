{
  "nbformat": 4,
  "nbformat_minor": 0,
  "metadata": {
    "colab": {
      "provenance": []
    },
    "kernelspec": {
      "name": "python3",
      "display_name": "Python 3"
    },
    "language_info": {
      "name": "python"
    }
  },
  "cells": [
    {
      "cell_type": "markdown",
      "source": [
        "Q1. Explain Class and Object with respect to Object-Oriented Programming. Give a suitable example."
      ],
      "metadata": {
        "id": "rEBfnw2V8ao2"
      }
    },
    {
      "cell_type": "code",
      "execution_count": 1,
      "metadata": {
        "colab": {
          "base_uri": "https://localhost:8080/"
        },
        "id": "-MeqDd4t6_wO",
        "outputId": "a981cef2-9d9a-4ac4-d20c-665ed70c8ed9"
      },
      "outputs": [
        {
          "output_type": "stream",
          "name": "stdout",
          "text": [
            "The 2020 Toyota Camry's engine is starting.\n"
          ]
        }
      ],
      "source": [
        "class Car:\n",
        "    def __init__(self, make, model, year):\n",
        "        self.make = make\n",
        "        self.model = model\n",
        "        self.year = year\n",
        "\n",
        "    def start_engine(self):\n",
        "        return f\"The {self.year} {self.make} {self.model}'s engine is starting.\"\n",
        "\n",
        "\n",
        "my_car = Car(\"Toyota\", \"Camry\", 2020)\n",
        "print(my_car.start_engine())\n"
      ]
    },
    {
      "cell_type": "markdown",
      "source": [
        "Q2. Name the four pillars of OOPs."
      ],
      "metadata": {
        "id": "7SjxWlLZ8rP0"
      }
    },
    {
      "cell_type": "markdown",
      "source": [
        "The four pillars of Object-Oriented Programming (OOPs) are:\n",
        "\n",
        "Encapsulation: Bundling data (attributes) and methods (functions) that operate on the data into a single unit (class), restricting direct access to some components.\n",
        "Abstraction: Hiding complex implementation details and showing only essential features.\n",
        "Inheritance: Allowing one class to inherit attributes and methods from another class, enabling code reuse.\n",
        "Polymorphism: Providing a way to perform a single action in different forms, such as method overriding and method overloading."
      ],
      "metadata": {
        "id": "rQyoTqW69AI1"
      }
    },
    {
      "cell_type": "markdown",
      "source": [
        "Q3. Explain why the __init__() function is used. Give a suitable example."
      ],
      "metadata": {
        "id": "l6MFKv4L9fB5"
      }
    },
    {
      "cell_type": "markdown",
      "source": [
        "The __init__() function is a special method in Python, also known as the constructor. It is automatically called when an object of the class is created. It initializes the object’s attributes and sets initial values."
      ],
      "metadata": {
        "id": "X7UclFaq9n6s"
      }
    },
    {
      "cell_type": "code",
      "source": [
        "class Dog:\n",
        "    def __init__(self, name, breed):\n",
        "        self.name = name\n",
        "        self.breed = breed\n",
        "\n",
        "    def bark(self):\n",
        "        return f\"{self.name} is barking.\"\n",
        "\n",
        "# Creating an object of the Dog class\n",
        "my_dog = Dog(\"Buddy\", \"Golden Retriever\")\n",
        "print(my_dog.bark())"
      ],
      "metadata": {
        "colab": {
          "base_uri": "https://localhost:8080/"
        },
        "id": "lld7tmnE8mVc",
        "outputId": "de13d5ec-2357-4f04-8d5d-629261436b46"
      },
      "execution_count": 2,
      "outputs": [
        {
          "output_type": "stream",
          "name": "stdout",
          "text": [
            "Buddy is barking.\n"
          ]
        }
      ]
    },
    {
      "cell_type": "markdown",
      "source": [
        "Q4. Why is self used in OOPs?"
      ],
      "metadata": {
        "id": "23589heF-ISs"
      }
    },
    {
      "cell_type": "markdown",
      "source": [
        "self is a reference to the current instance of the class. It allows access to the instance attributes and methods. Using self, the object can keep track of its own data and differentiate it from other objects of the same class."
      ],
      "metadata": {
        "id": "MZQmWsug-Lh5"
      }
    },
    {
      "cell_type": "code",
      "source": [],
      "metadata": {
        "id": "l04-IHB7--gl"
      },
      "execution_count": null,
      "outputs": []
    },
    {
      "cell_type": "markdown",
      "source": [
        "Q5. What is inheritance? Give an example for each type of inheritance.\n",
        "Inheritance is an OOP principle that allows one class (child or derived class) to inherit properties and methods from another class (parent or base class). This promotes code reuse and logical hierarchy."
      ],
      "metadata": {
        "id": "B2r_7zpD_Acr"
      }
    },
    {
      "cell_type": "code",
      "source": [
        "#Single Inheritance\n",
        "class Animal:\n",
        "    def sound(self):\n",
        "        return \"Some generic animal sound\"\n",
        "\n",
        "class Dog(Animal):\n",
        "    def sound(self):\n",
        "        return \"Bark\"\n",
        "\n",
        "my_dog = Dog()\n",
        "print(my_dog.sound())\n"
      ],
      "metadata": {
        "colab": {
          "base_uri": "https://localhost:8080/"
        },
        "id": "N4ZcLDtL8ma_",
        "outputId": "b8f138a3-f1a8-4f28-d4ef-3f0ee3668dc8"
      },
      "execution_count": 3,
      "outputs": [
        {
          "output_type": "stream",
          "name": "stdout",
          "text": [
            "Bark\n"
          ]
        }
      ]
    },
    {
      "cell_type": "code",
      "source": [
        "#Multiple Inheritance\n",
        "class A:\n",
        "    def feature_a(self):\n",
        "        return \"Feature A\"\n",
        "\n",
        "class B:\n",
        "    def feature_b(self):\n",
        "        return \"Feature B\"\n",
        "\n",
        "class C(A, B):\n",
        "    pass\n",
        "\n",
        "obj = C()\n",
        "print(obj.feature_a())\n",
        "print(obj.feature_b())\n"
      ],
      "metadata": {
        "colab": {
          "base_uri": "https://localhost:8080/"
        },
        "id": "tOKw26l58md6",
        "outputId": "a9bbbce2-be1c-4bc5-a145-4d7ace6206d3"
      },
      "execution_count": 4,
      "outputs": [
        {
          "output_type": "stream",
          "name": "stdout",
          "text": [
            "Feature A\n",
            "Feature B\n"
          ]
        }
      ]
    },
    {
      "cell_type": "code",
      "source": [
        "#Multilevel Inheritance\n",
        "class Animal:\n",
        "    def sound(self):\n",
        "        return \"Some sound\"\n",
        "\n",
        "class Mammal(Animal):\n",
        "    def sound(self):\n",
        "        return \"Mammal sound\"\n",
        "\n",
        "class Dog(Mammal):\n",
        "    def sound(self):\n",
        "        return \"Bark\"\n",
        "\n",
        "my_dog = Dog()\n",
        "print(my_dog.sound())\n"
      ],
      "metadata": {
        "colab": {
          "base_uri": "https://localhost:8080/"
        },
        "id": "wdNXYJP88mXT",
        "outputId": "bf1d696a-b156-45d8-cec0-860a5f5b6e57"
      },
      "execution_count": 5,
      "outputs": [
        {
          "output_type": "stream",
          "name": "stdout",
          "text": [
            "Bark\n"
          ]
        }
      ]
    },
    {
      "cell_type": "code",
      "source": [
        "#Hierirchal Inheritance\n",
        "class Animal:\n",
        "    def sound(self):\n",
        "        return \"Some sound\"\n",
        "\n",
        "class Dog(Animal):\n",
        "    def sound(self):\n",
        "        return \"Bark\"\n",
        "\n",
        "class Cat(Animal):\n",
        "    def sound(self):\n",
        "        return \"Meow\"\n",
        "\n",
        "dog = Dog()\n",
        "cat = Cat()\n",
        "print(dog.sound())\n",
        "print(cat.sound())"
      ],
      "metadata": {
        "colab": {
          "base_uri": "https://localhost:8080/"
        },
        "id": "V__YB9Nm8miE",
        "outputId": "625cf183-ae91-4e21-9997-000206506fc2"
      },
      "execution_count": 6,
      "outputs": [
        {
          "output_type": "stream",
          "name": "stdout",
          "text": [
            "Bark\n",
            "Meow\n"
          ]
        }
      ]
    },
    {
      "cell_type": "code",
      "source": [
        "#Hybrid Inheritance\n",
        "class A:\n",
        "    def feature_a(self):\n",
        "        return \"Feature A\"\n",
        "\n",
        "class B(A):\n",
        "    def feature_b(self):\n",
        "        return \"Feature B\"\n",
        "\n",
        "class C:\n",
        "    def feature_c(self):\n",
        "        return \"Feature C\"\n",
        "\n",
        "class D(B, C):\n",
        "    pass\n",
        "\n",
        "obj = D()\n",
        "print(obj.feature_a())\n",
        "print(obj.feature_b())\n",
        "print(obj.feature_c())\n"
      ],
      "metadata": {
        "colab": {
          "base_uri": "https://localhost:8080/"
        },
        "id": "AwyGmOnp8mk7",
        "outputId": "0513f346-a49f-4fd5-ca88-b9f42d5fe4e3"
      },
      "execution_count": 7,
      "outputs": [
        {
          "output_type": "stream",
          "name": "stdout",
          "text": [
            "Feature A\n",
            "Feature B\n",
            "Feature C\n"
          ]
        }
      ]
    }
  ]
}