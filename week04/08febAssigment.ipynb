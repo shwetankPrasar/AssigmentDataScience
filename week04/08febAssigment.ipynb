{
  "nbformat": 4,
  "nbformat_minor": 0,
  "metadata": {
    "colab": {
      "provenance": []
    },
    "kernelspec": {
      "name": "python3",
      "display_name": "Python 3"
    },
    "language_info": {
      "name": "python"
    }
  },
  "cells": [
    {
      "cell_type": "markdown",
      "source": [
        "Q1. What is Abstraction in OOPs? Explain with an example.\n"
      ],
      "metadata": {
        "id": "3buedDzzCJ9T"
      }
    },
    {
      "cell_type": "markdown",
      "source": [
        "Abstraction in Object-Oriented Programming (OOP) is the concept of hiding the complex implementation details and showing only the essential features to the user. It helps in reducing complexity by allowing users to interact with the system without knowing the internal workings.\n",
        "\n",
        "Example:\n",
        "In a car, the driver only needs to know how to operate the steering, pedals, and gear to drive the car. The internal mechanisms like engine functionality, transmission, and combustion process are hidden (abstracted) from the user."
      ],
      "metadata": {
        "id": "E4bv0g5BCii6"
      }
    },
    {
      "cell_type": "code",
      "source": [
        "class Car:\n",
        "    def start(self):\n",
        "        print(\"Car started\")\n",
        "\n",
        "    def drive(self):\n",
        "        print(\"Driving the car\")\n",
        "\n",
        "# Usage\n",
        "my_car = Car()\n",
        "my_car.start()\n",
        "my_car.drive()\n"
      ],
      "metadata": {
        "colab": {
          "base_uri": "https://localhost:8080/"
        },
        "id": "Ux8QTeYTCJiu",
        "outputId": "853bd909-0a7f-4488-9b62-ee99a6f31527"
      },
      "execution_count": 1,
      "outputs": [
        {
          "output_type": "stream",
          "name": "stdout",
          "text": [
            "Car started\n",
            "Driving the car\n"
          ]
        }
      ]
    },
    {
      "cell_type": "markdown",
      "source": [],
      "metadata": {
        "id": "IeYnJItuC1y3"
      }
    },
    {
      "cell_type": "markdown",
      "source": [
        "Q2. Differentiate between Abstraction and Encapsulation. Explain with an example."
      ],
      "metadata": {
        "id": "HcDjYvneCtUE"
      }
    },
    {
      "cell_type": "markdown",
      "source": [
        "Abstraction focuses on hiding the complexity by exposing only the necessary parts of the system, i.e., what an object does.\n",
        "Encapsulation is the technique of bundling data and methods that operate on the data into a single unit, i.e., how the object achieves its functionality. Encapsulation also helps in restricting access to some components (data hiding).\n",
        "Example:\n",
        "\n",
        "Abstraction: A user interacts with a TV by pressing buttons on the remote (volume up, change channel). They don't need to know how the internal circuits work.\n",
        "Encapsulation: The TV encapsulates various components like a screen, power supply, and sound system, but access to internal components (data) is restricted."
      ],
      "metadata": {
        "id": "-Rc0ku1UCunC"
      }
    },
    {
      "cell_type": "code",
      "execution_count": null,
      "metadata": {
        "id": "DCcmDmqrCDzf"
      },
      "outputs": [],
      "source": [
        "class TV:\n",
        "    def __init__(self):\n",
        "        self.__volume = 10  # Encapsulation: volume is private\n",
        "\n",
        "    def increase_volume(self):\n",
        "        self.__volume += 1\n",
        "        print(f\"Volume increased to {self.__volume}\")\n",
        "\n",
        "    def show_channel(self):\n",
        "        print(\"Showing channel\")\n",
        "\n",
        "# Abstraction (TV operations are simple, hiding internal working)\n",
        "tv = TV()\n",
        "tv.increase_volume()\n",
        "tv.show_channel()\n"
      ]
    },
    {
      "cell_type": "markdown",
      "source": [
        "Q3. What is the abc module in Python? Why is it used?"
      ],
      "metadata": {
        "id": "Ysf82jwOC6JL"
      }
    },
    {
      "cell_type": "markdown",
      "source": [
        "The abc module in Python stands for \"Abstract Base Classes.\" It is used to define abstract classes and methods in Python. An abstract class cannot be instantiated and is intended to be subclassed. The abc module ensures that derived classes implement abstract methods defined in the base class.\n",
        "\n",
        "Why is it used?\n",
        "It is used to enforce certain behaviors in subclasses. If a subclass doesn't implement all the abstract methods of an abstract class, Python will raise an error."
      ],
      "metadata": {
        "id": "NaY0smRuC--M"
      }
    },
    {
      "cell_type": "code",
      "source": [
        "from abc import ABC, abstractmethod\n",
        "\n",
        "class Animal(ABC):  # Abstract class\n",
        "    @abstractmethod\n",
        "    def sound(self):\n",
        "        pass  # Abstract method\n",
        "\n",
        "class Dog(Animal):\n",
        "    def sound(self):\n",
        "        return \"Bark\"\n",
        "\n",
        "# dog = Animal()  # Error: cannot instantiate abstract class\n",
        "dog = Dog()\n",
        "print(dog.sound())  # Output: Bark\n"
      ],
      "metadata": {
        "id": "Zb7biAaUDFHM"
      },
      "execution_count": null,
      "outputs": []
    },
    {
      "cell_type": "markdown",
      "source": [
        "Q4. How can we achieve data abstraction?"
      ],
      "metadata": {
        "id": "69dLV2WdDJAi"
      }
    },
    {
      "cell_type": "markdown",
      "source": [
        "Data abstraction can be achieved in OOP by:\n",
        "\n",
        "Using abstract classes and methods: Abstract classes define methods without implementation, enforcing subclasses to implement the functionality.\n",
        "Using interfaces: An interface contains only method signatures, which must be implemented by the classes that inherit it.\n",
        "Using access specifiers (public, private, protected): These restrict the visibility of class members and help in abstracting the internal details from the user."
      ],
      "metadata": {
        "id": "tKesFEg0DNij"
      }
    },
    {
      "cell_type": "code",
      "source": [
        "class BankAccount:\n",
        "    def __init__(self, balance):\n",
        "        self.__balance = balance  # Private attribute\n",
        "\n",
        "    def get_balance(self):\n",
        "        return self.__balance  # Public method to access private attribute\n",
        "\n",
        "# Usage\n",
        "account = BankAccount(1000)\n",
        "print(account.get_balance())  # Abstraction: the balance is retrieved via a method\n"
      ],
      "metadata": {
        "colab": {
          "base_uri": "https://localhost:8080/"
        },
        "id": "Kokm26hmCI8F",
        "outputId": "f6cd4a0f-d87c-4224-8c7c-a94958ec3535"
      },
      "execution_count": 2,
      "outputs": [
        {
          "output_type": "stream",
          "name": "stdout",
          "text": [
            "1000\n"
          ]
        }
      ]
    },
    {
      "cell_type": "markdown",
      "source": [
        "Q5. Can we create an instance of an abstract class? Explain your answer."
      ],
      "metadata": {
        "id": "0LaOAxgNDUz5"
      }
    },
    {
      "cell_type": "markdown",
      "source": [
        "No, we cannot create an instance of an abstract class.\n",
        "\n",
        "Explanation:\n",
        "An abstract class is designed to be a blueprint for other classes. It contains abstract methods (methods without implementation) that must be implemented in its derived subclasses. Since it may have incomplete methods, it cannot be instantiated directly. Instead, you need to create a subclass that provides concrete implementations for all abstract methods, and then instantiate the subclass."
      ],
      "metadata": {
        "id": "d7PYlQa2DYnu"
      }
    },
    {
      "cell_type": "code",
      "source": [
        "from abc import ABC, abstractmethod\n",
        "\n",
        "class Shape(ABC):\n",
        "    @abstractmethod\n",
        "    def area(self):\n",
        "        pass\n",
        "\n",
        "# shape = Shape()  # This will raise an error: \"Can't instantiate abstract class Shape\"\n",
        "class Circle(Shape):\n",
        "    def __init__(self, radius):\n",
        "        self.radius = radius\n",
        "\n",
        "    def area(self):\n",
        "        return 3.14 * self.radius ** 2\n",
        "\n",
        "circle = Circle(5)\n",
        "print(circle.area())  # Output: 78.5\n"
      ],
      "metadata": {
        "id": "ipTy5GQwDbVC",
        "outputId": "3860c738-eeda-4611-b17f-a737a1d0c93e",
        "colab": {
          "base_uri": "https://localhost:8080/"
        }
      },
      "execution_count": 3,
      "outputs": [
        {
          "output_type": "stream",
          "name": "stdout",
          "text": [
            "78.5\n"
          ]
        }
      ]
    }
  ]
}