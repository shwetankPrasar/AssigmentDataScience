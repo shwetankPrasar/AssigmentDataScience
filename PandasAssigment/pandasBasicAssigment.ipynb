{
 "cells": [
  {
   "cell_type": "code",
   "execution_count": 1,
   "id": "2e56bfcc-78b5-489d-a3ac-53d46b176de5",
   "metadata": {},
   "outputs": [],
   "source": [
    "# Question 1 solution"
   ]
  },
  {
   "cell_type": "code",
   "execution_count": 56,
   "id": "ff7ad38a-5592-485c-a7b2-2c532e0ca4a8",
   "metadata": {},
   "outputs": [],
   "source": [
    "import pandas as pd"
   ]
  },
  {
   "cell_type": "code",
   "execution_count": 3,
   "id": "01645230-f5a1-4127-9746-e1b8be9ca65c",
   "metadata": {},
   "outputs": [],
   "source": [
    "data = [4,8,15,16,23,42]"
   ]
  },
  {
   "cell_type": "code",
   "execution_count": 5,
   "id": "e9b24220-c817-4458-9280-ca980c7cf3d2",
   "metadata": {},
   "outputs": [],
   "source": [
    "series = pd.Series(data)"
   ]
  },
  {
   "cell_type": "code",
   "execution_count": 6,
   "id": "2216bfc7-96c8-415a-a762-ff4d242e7333",
   "metadata": {},
   "outputs": [
    {
     "name": "stdout",
     "output_type": "stream",
     "text": [
      "0     4\n",
      "1     8\n",
      "2    15\n",
      "3    16\n",
      "4    23\n",
      "5    42\n",
      "dtype: int64\n"
     ]
    }
   ],
   "source": [
    "print(series)"
   ]
  },
  {
   "cell_type": "code",
   "execution_count": 7,
   "id": "d99eaaa1-c0a5-4935-9fca-f17f37eb8624",
   "metadata": {},
   "outputs": [
    {
     "data": {
      "text/plain": [
       "pandas.core.series.Series"
      ]
     },
     "execution_count": 7,
     "metadata": {},
     "output_type": "execute_result"
    }
   ],
   "source": [
    "type(series)"
   ]
  },
  {
   "cell_type": "code",
   "execution_count": 8,
   "id": "9c13716d-e1c1-44cd-9afc-5850ac2bb50c",
   "metadata": {},
   "outputs": [],
   "source": [
    "#Question 2 solution"
   ]
  },
  {
   "cell_type": "code",
   "execution_count": 15,
   "id": "77f39b5e-6864-4e81-b0fa-fc31440c71d5",
   "metadata": {},
   "outputs": [],
   "source": [
    "import pandas"
   ]
  },
  {
   "cell_type": "code",
   "execution_count": 9,
   "id": "0b2164dd-b0b8-48a3-922d-f7c33c2af654",
   "metadata": {},
   "outputs": [],
   "source": [
    "marks = [80,83,78,94,88,94,96,82,87,83]"
   ]
  },
  {
   "cell_type": "code",
   "execution_count": 16,
   "id": "3486e23d-bca1-4a73-9449-ba393b6dc4c5",
   "metadata": {},
   "outputs": [],
   "source": [
    "series = pandas.Series(marks)"
   ]
  },
  {
   "cell_type": "code",
   "execution_count": 17,
   "id": "2e892a81-a9ce-40b6-8414-3c75aca38e5b",
   "metadata": {},
   "outputs": [
    {
     "name": "stdout",
     "output_type": "stream",
     "text": [
      "0    80\n",
      "1    83\n",
      "2    78\n",
      "3    94\n",
      "4    88\n",
      "5    94\n",
      "6    96\n",
      "7    82\n",
      "8    87\n",
      "9    83\n",
      "dtype: int64\n"
     ]
    }
   ],
   "source": [
    "print(series)"
   ]
  },
  {
   "cell_type": "code",
   "execution_count": 18,
   "id": "eb05ff32-6511-4dea-8ce5-f3fb1d268573",
   "metadata": {},
   "outputs": [],
   "source": [
    "#Question 3 solution"
   ]
  },
  {
   "cell_type": "code",
   "execution_count": 19,
   "id": "0e26c580-6d03-4718-88eb-153581c4e160",
   "metadata": {},
   "outputs": [],
   "source": [
    "import pandas as pd"
   ]
  },
  {
   "cell_type": "code",
   "execution_count": 20,
   "id": "2011df44-16d3-4106-ac30-495cf137b9ac",
   "metadata": {},
   "outputs": [],
   "source": [
    "data ={\n",
    "    'Name':[\"Alice\",\"BOb\",\"Claire\"],\n",
    "    'Age':[25,30,27],\n",
    "    'Gender':[\"Female\",\"Male\",\"Female\"]\n",
    "    \n",
    "}"
   ]
  },
  {
   "cell_type": "code",
   "execution_count": 22,
   "id": "c10cdb09-5c1d-44d3-9d82-532b26bc8716",
   "metadata": {},
   "outputs": [],
   "source": [
    "dataFrame = pd.DataFrame(data)"
   ]
  },
  {
   "cell_type": "code",
   "execution_count": 24,
   "id": "705494cb-1bbc-4e9f-b890-bb50ed81c45e",
   "metadata": {},
   "outputs": [
    {
     "name": "stdout",
     "output_type": "stream",
     "text": [
      "     Name  Age  Gender\n",
      "0   Alice   25  Female\n",
      "1     BOb   30    Male\n",
      "2  Claire   27  Female\n"
     ]
    }
   ],
   "source": [
    "print(dataFrame)"
   ]
  },
  {
   "cell_type": "code",
   "execution_count": 29,
   "id": "3f4f3ce1-99ac-4e47-afa0-951333d38bd4",
   "metadata": {},
   "outputs": [
    {
     "data": {
      "text/plain": [
       "pandas.core.frame.DataFrame"
      ]
     },
     "execution_count": 29,
     "metadata": {},
     "output_type": "execute_result"
    }
   ],
   "source": [
    "type(dataFrame)"
   ]
  },
  {
   "cell_type": "code",
   "execution_count": 30,
   "id": "fa102f38-9e71-4db0-8c04-553edb86b25b",
   "metadata": {},
   "outputs": [],
   "source": [
    "#Question 4 Solution"
   ]
  },
  {
   "cell_type": "code",
   "execution_count": 31,
   "id": "2c3433a4-a389-464c-8431-888df141b7e0",
   "metadata": {},
   "outputs": [
    {
     "data": {
      "text/plain": [
       "'\\nDataframe:- A DataFrame is a data structure that organizes data into a 2-dimensional table of rows and columns,\\n            much like a spreadsheet.It is combination of Multiple Columns.A DataFrame can store heterogeneous data.\\n\\nSeries:-A DataFrame is a data structure that organizes data into a 1-dimensional table of rows and columns,\\n        It is a single column element.A series can store homogenous data because it has one column .\\n        \\n        Example:-\\n'"
      ]
     },
     "execution_count": 31,
     "metadata": {},
     "output_type": "execute_result"
    }
   ],
   "source": [
    "\"\"\"\n",
    "Dataframe:- A DataFrame is a data structure that organizes data into a 2-dimensional table of rows and columns,\n",
    "            much like a spreadsheet.It is combination of Multiple Columns.A DataFrame can store heterogeneous data.\n",
    "\n",
    "Series:-A DataFrame is a data structure that organizes data into a 1-dimensional table of rows and columns,\n",
    "        It is a single column element.A series can store homogenous data because it has one column .\n",
    "        \n",
    "        Example:-\n",
    "\"\"\""
   ]
  },
  {
   "cell_type": "code",
   "execution_count": 33,
   "id": "87de0d60-6e79-42a2-9d90-7838be79c681",
   "metadata": {},
   "outputs": [],
   "source": [
    "data ={\n",
    "    'Name':[\"Alice\",\"BOb\",\"Claire\"],\n",
    "    'Age':[25,30,27],\n",
    "    'Gender':[\"Female\",\"Male\",\"Female\"]\n",
    "    \n",
    "}"
   ]
  },
  {
   "cell_type": "code",
   "execution_count": 36,
   "id": "ab9bb376-4ccf-4ead-bf97-97c88bfcbfc4",
   "metadata": {},
   "outputs": [],
   "source": [
    "pd1 = pd.DataFrame(data)"
   ]
  },
  {
   "cell_type": "code",
   "execution_count": 37,
   "id": "3e7c4656-d6c9-467f-af27-615c3d6a79b4",
   "metadata": {},
   "outputs": [
    {
     "name": "stdout",
     "output_type": "stream",
     "text": [
      "     Name  Age  Gender\n",
      "0   Alice   25  Female\n",
      "1     BOb   30    Male\n",
      "2  Claire   27  Female\n"
     ]
    }
   ],
   "source": [
    "print(pd1)"
   ]
  },
  {
   "cell_type": "code",
   "execution_count": 38,
   "id": "31eed34b-d560-4108-97f2-1d93c8f74f0a",
   "metadata": {},
   "outputs": [
    {
     "data": {
      "text/plain": [
       "pandas.core.frame.DataFrame"
      ]
     },
     "execution_count": 38,
     "metadata": {},
     "output_type": "execute_result"
    }
   ],
   "source": [
    "type(pd1)"
   ]
  },
  {
   "cell_type": "code",
   "execution_count": 40,
   "id": "dd21946c-9f72-4c4b-bd63-e5c7d31332ca",
   "metadata": {},
   "outputs": [
    {
     "name": "stdout",
     "output_type": "stream",
     "text": [
      "0     Alice\n",
      "1       BOb\n",
      "2    Claire\n",
      "Name: Name, dtype: object\n"
     ]
    }
   ],
   "source": [
    "print(pd1['Name'])"
   ]
  },
  {
   "cell_type": "code",
   "execution_count": 41,
   "id": "92794bd5-24ea-4d25-beb2-435504343c7c",
   "metadata": {},
   "outputs": [
    {
     "data": {
      "text/plain": [
       "pandas.core.series.Series"
      ]
     },
     "execution_count": 41,
     "metadata": {},
     "output_type": "execute_result"
    }
   ],
   "source": [
    "type(pd1['Name'])"
   ]
  },
  {
   "cell_type": "code",
   "execution_count": 42,
   "id": "4bbf01a9-3b5d-4d91-af50-8863405d4698",
   "metadata": {},
   "outputs": [],
   "source": [
    "#Question 5 Solution"
   ]
  },
  {
   "cell_type": "code",
   "execution_count": null,
   "id": "0d960199-da91-42a4-b6db-1b29bcfe223f",
   "metadata": {},
   "outputs": [],
   "source": [
    "\"\"\"\n",
    "     there are following function that use to manupulate pandas Data Frame:-\n",
    "     head(),tail(),describe(),info(),loc[],iloc[]\n",
    "\"\"\""
   ]
  },
  {
   "cell_type": "code",
   "execution_count": 44,
   "id": "fa9ab417-8963-4f63-8d16-92caa15477fa",
   "metadata": {},
   "outputs": [
    {
     "data": {
      "text/html": [
       "<div>\n",
       "<style scoped>\n",
       "    .dataframe tbody tr th:only-of-type {\n",
       "        vertical-align: middle;\n",
       "    }\n",
       "\n",
       "    .dataframe tbody tr th {\n",
       "        vertical-align: top;\n",
       "    }\n",
       "\n",
       "    .dataframe thead th {\n",
       "        text-align: right;\n",
       "    }\n",
       "</style>\n",
       "<table border=\"1\" class=\"dataframe\">\n",
       "  <thead>\n",
       "    <tr style=\"text-align: right;\">\n",
       "      <th></th>\n",
       "      <th>Name</th>\n",
       "      <th>Age</th>\n",
       "      <th>Gender</th>\n",
       "    </tr>\n",
       "  </thead>\n",
       "  <tbody>\n",
       "    <tr>\n",
       "      <th>0</th>\n",
       "      <td>Alice</td>\n",
       "      <td>25</td>\n",
       "      <td>Female</td>\n",
       "    </tr>\n",
       "    <tr>\n",
       "      <th>1</th>\n",
       "      <td>BOb</td>\n",
       "      <td>30</td>\n",
       "      <td>Male</td>\n",
       "    </tr>\n",
       "  </tbody>\n",
       "</table>\n",
       "</div>"
      ],
      "text/plain": [
       "    Name  Age  Gender\n",
       "0  Alice   25  Female\n",
       "1    BOb   30    Male"
      ]
     },
     "execution_count": 44,
     "metadata": {},
     "output_type": "execute_result"
    }
   ],
   "source": [
    "pd1.head(2)"
   ]
  },
  {
   "cell_type": "code",
   "execution_count": 45,
   "id": "f5d2992b-73bc-453f-a6c4-f5cc1b71c912",
   "metadata": {},
   "outputs": [
    {
     "data": {
      "text/html": [
       "<div>\n",
       "<style scoped>\n",
       "    .dataframe tbody tr th:only-of-type {\n",
       "        vertical-align: middle;\n",
       "    }\n",
       "\n",
       "    .dataframe tbody tr th {\n",
       "        vertical-align: top;\n",
       "    }\n",
       "\n",
       "    .dataframe thead th {\n",
       "        text-align: right;\n",
       "    }\n",
       "</style>\n",
       "<table border=\"1\" class=\"dataframe\">\n",
       "  <thead>\n",
       "    <tr style=\"text-align: right;\">\n",
       "      <th></th>\n",
       "      <th>Name</th>\n",
       "      <th>Age</th>\n",
       "      <th>Gender</th>\n",
       "    </tr>\n",
       "  </thead>\n",
       "  <tbody>\n",
       "    <tr>\n",
       "      <th>1</th>\n",
       "      <td>BOb</td>\n",
       "      <td>30</td>\n",
       "      <td>Male</td>\n",
       "    </tr>\n",
       "    <tr>\n",
       "      <th>2</th>\n",
       "      <td>Claire</td>\n",
       "      <td>27</td>\n",
       "      <td>Female</td>\n",
       "    </tr>\n",
       "  </tbody>\n",
       "</table>\n",
       "</div>"
      ],
      "text/plain": [
       "     Name  Age  Gender\n",
       "1     BOb   30    Male\n",
       "2  Claire   27  Female"
      ]
     },
     "execution_count": 45,
     "metadata": {},
     "output_type": "execute_result"
    }
   ],
   "source": [
    "pd1.tail(2)"
   ]
  },
  {
   "cell_type": "code",
   "execution_count": 46,
   "id": "5d3d8b1d-ec17-4faf-bdc7-1fffd91ab449",
   "metadata": {},
   "outputs": [
    {
     "data": {
      "text/html": [
       "<div>\n",
       "<style scoped>\n",
       "    .dataframe tbody tr th:only-of-type {\n",
       "        vertical-align: middle;\n",
       "    }\n",
       "\n",
       "    .dataframe tbody tr th {\n",
       "        vertical-align: top;\n",
       "    }\n",
       "\n",
       "    .dataframe thead th {\n",
       "        text-align: right;\n",
       "    }\n",
       "</style>\n",
       "<table border=\"1\" class=\"dataframe\">\n",
       "  <thead>\n",
       "    <tr style=\"text-align: right;\">\n",
       "      <th></th>\n",
       "      <th>Age</th>\n",
       "    </tr>\n",
       "  </thead>\n",
       "  <tbody>\n",
       "    <tr>\n",
       "      <th>count</th>\n",
       "      <td>3.000000</td>\n",
       "    </tr>\n",
       "    <tr>\n",
       "      <th>mean</th>\n",
       "      <td>27.333333</td>\n",
       "    </tr>\n",
       "    <tr>\n",
       "      <th>std</th>\n",
       "      <td>2.516611</td>\n",
       "    </tr>\n",
       "    <tr>\n",
       "      <th>min</th>\n",
       "      <td>25.000000</td>\n",
       "    </tr>\n",
       "    <tr>\n",
       "      <th>25%</th>\n",
       "      <td>26.000000</td>\n",
       "    </tr>\n",
       "    <tr>\n",
       "      <th>50%</th>\n",
       "      <td>27.000000</td>\n",
       "    </tr>\n",
       "    <tr>\n",
       "      <th>75%</th>\n",
       "      <td>28.500000</td>\n",
       "    </tr>\n",
       "    <tr>\n",
       "      <th>max</th>\n",
       "      <td>30.000000</td>\n",
       "    </tr>\n",
       "  </tbody>\n",
       "</table>\n",
       "</div>"
      ],
      "text/plain": [
       "             Age\n",
       "count   3.000000\n",
       "mean   27.333333\n",
       "std     2.516611\n",
       "min    25.000000\n",
       "25%    26.000000\n",
       "50%    27.000000\n",
       "75%    28.500000\n",
       "max    30.000000"
      ]
     },
     "execution_count": 46,
     "metadata": {},
     "output_type": "execute_result"
    }
   ],
   "source": [
    "pd1.describe()"
   ]
  },
  {
   "cell_type": "code",
   "execution_count": 47,
   "id": "0598846d-ab7d-4de8-b162-72c4273111e0",
   "metadata": {},
   "outputs": [
    {
     "name": "stdout",
     "output_type": "stream",
     "text": [
      "<class 'pandas.core.frame.DataFrame'>\n",
      "RangeIndex: 3 entries, 0 to 2\n",
      "Data columns (total 3 columns):\n",
      " #   Column  Non-Null Count  Dtype \n",
      "---  ------  --------------  ----- \n",
      " 0   Name    3 non-null      object\n",
      " 1   Age     3 non-null      int64 \n",
      " 2   Gender  3 non-null      object\n",
      "dtypes: int64(1), object(2)\n",
      "memory usage: 200.0+ bytes\n"
     ]
    }
   ],
   "source": [
    "pd1.info()"
   ]
  },
  {
   "cell_type": "code",
   "execution_count": 48,
   "id": "7eb39529-8ee9-4df3-b52a-69930cdcc4fe",
   "metadata": {},
   "outputs": [
    {
     "data": {
      "text/plain": [
       "Name       Alice\n",
       "Age           25\n",
       "Gender    Female\n",
       "Name: 0, dtype: object"
      ]
     },
     "execution_count": 48,
     "metadata": {},
     "output_type": "execute_result"
    }
   ],
   "source": [
    "pd1.loc[0]"
   ]
  },
  {
   "cell_type": "code",
   "execution_count": 51,
   "id": "d5862326-365b-4310-ad0a-671a1ab7d8b4",
   "metadata": {},
   "outputs": [
    {
     "data": {
      "text/html": [
       "<div>\n",
       "<style scoped>\n",
       "    .dataframe tbody tr th:only-of-type {\n",
       "        vertical-align: middle;\n",
       "    }\n",
       "\n",
       "    .dataframe tbody tr th {\n",
       "        vertical-align: top;\n",
       "    }\n",
       "\n",
       "    .dataframe thead th {\n",
       "        text-align: right;\n",
       "    }\n",
       "</style>\n",
       "<table border=\"1\" class=\"dataframe\">\n",
       "  <thead>\n",
       "    <tr style=\"text-align: right;\">\n",
       "      <th></th>\n",
       "      <th>Name</th>\n",
       "      <th>Age</th>\n",
       "      <th>Gender</th>\n",
       "    </tr>\n",
       "  </thead>\n",
       "  <tbody>\n",
       "    <tr>\n",
       "      <th>0</th>\n",
       "      <td>Alice</td>\n",
       "      <td>25</td>\n",
       "      <td>Female</td>\n",
       "    </tr>\n",
       "    <tr>\n",
       "      <th>1</th>\n",
       "      <td>BOb</td>\n",
       "      <td>30</td>\n",
       "      <td>Male</td>\n",
       "    </tr>\n",
       "    <tr>\n",
       "      <th>2</th>\n",
       "      <td>Claire</td>\n",
       "      <td>27</td>\n",
       "      <td>Female</td>\n",
       "    </tr>\n",
       "  </tbody>\n",
       "</table>\n",
       "</div>"
      ],
      "text/plain": [
       "     Name  Age  Gender\n",
       "0   Alice   25  Female\n",
       "1     BOb   30    Male\n",
       "2  Claire   27  Female"
      ]
     },
     "execution_count": 51,
     "metadata": {},
     "output_type": "execute_result"
    }
   ],
   "source": [
    "pd1.loc[0:2]"
   ]
  },
  {
   "cell_type": "code",
   "execution_count": 52,
   "id": "2b1ad0bb-6824-4170-ab70-c8c7eefcb95e",
   "metadata": {},
   "outputs": [
    {
     "data": {
      "text/plain": [
       "Name       Alice\n",
       "Age           25\n",
       "Gender    Female\n",
       "Name: 0, dtype: object"
      ]
     },
     "execution_count": 52,
     "metadata": {},
     "output_type": "execute_result"
    }
   ],
   "source": [
    "pd1.iloc[0]"
   ]
  },
  {
   "cell_type": "code",
   "execution_count": 53,
   "id": "98e4a914-c438-4c37-b0a1-eda9c286f6c9",
   "metadata": {},
   "outputs": [
    {
     "data": {
      "text/html": [
       "<div>\n",
       "<style scoped>\n",
       "    .dataframe tbody tr th:only-of-type {\n",
       "        vertical-align: middle;\n",
       "    }\n",
       "\n",
       "    .dataframe tbody tr th {\n",
       "        vertical-align: top;\n",
       "    }\n",
       "\n",
       "    .dataframe thead th {\n",
       "        text-align: right;\n",
       "    }\n",
       "</style>\n",
       "<table border=\"1\" class=\"dataframe\">\n",
       "  <thead>\n",
       "    <tr style=\"text-align: right;\">\n",
       "      <th></th>\n",
       "      <th>Name</th>\n",
       "      <th>Age</th>\n",
       "      <th>Gender</th>\n",
       "    </tr>\n",
       "  </thead>\n",
       "  <tbody>\n",
       "    <tr>\n",
       "      <th>0</th>\n",
       "      <td>Alice</td>\n",
       "      <td>25</td>\n",
       "      <td>Female</td>\n",
       "    </tr>\n",
       "    <tr>\n",
       "      <th>1</th>\n",
       "      <td>BOb</td>\n",
       "      <td>30</td>\n",
       "      <td>Male</td>\n",
       "    </tr>\n",
       "  </tbody>\n",
       "</table>\n",
       "</div>"
      ],
      "text/plain": [
       "    Name  Age  Gender\n",
       "0  Alice   25  Female\n",
       "1    BOb   30    Male"
      ]
     },
     "execution_count": 53,
     "metadata": {},
     "output_type": "execute_result"
    }
   ],
   "source": [
    "pd1.iloc[0:2]"
   ]
  },
  {
   "cell_type": "code",
   "execution_count": null,
   "id": "2166fe52-f645-4fd0-be88-8c754c0b3611",
   "metadata": {},
   "outputs": [],
   "source": [
    "#Question 6 solution"
   ]
  },
  {
   "cell_type": "code",
   "execution_count": null,
   "id": "07c4d15e-0eb7-44eb-8d22-b96cd5750308",
   "metadata": {},
   "outputs": [],
   "source": [
    "\"\"\"\n",
    "Series: A Pandas Series is a one-dimensional labeled array and is mutable.\n",
    "You can modify its elements, change its size, or perform various operations on it.\n",
    "\n",
    "DataFrame: A Pandas DataFrame is a two-dimensional labeled data structure and is \n",
    "also mutable. You can add, delete, modify columns, rows, and their values, perform\n",
    "data transformations, and more.\n",
    "\n",
    "Panel: A Panel is a three-dimensional data structure in pandas (not used as frequently\n",
    "as Series and DataFrame). It was primarily used for handling multi-dimensional data. \n",
    "\n",
    "Therefore, Series and DataFrame are the mutable data structures in pandas, while Panel \n",
    "is not recommended to be used and is considered as immutable in nature.\n",
    "\"\"\""
   ]
  },
  {
   "cell_type": "code",
   "execution_count": null,
   "id": "bb5ddac7-7b6a-4c04-96c4-ddfab5fc81c1",
   "metadata": {},
   "outputs": [],
   "source": [
    "#Question 7 Solution"
   ]
  },
  {
   "cell_type": "code",
   "execution_count": 58,
   "id": "e15c8852-b617-47dc-bf6d-8e65f900486c",
   "metadata": {},
   "outputs": [],
   "source": [
    "Name = pd.Series([\"Alice\",\"BOb\",\"Claire\"])\n",
    "Age = pd.Series([25,30,27])\n",
    "Gender = pd.Series([\"Female\",\"Male\",\"Female\"])"
   ]
  },
  {
   "cell_type": "code",
   "execution_count": 59,
   "id": "4efecafa-9b10-4afd-ac23-814209e0c987",
   "metadata": {},
   "outputs": [],
   "source": [
    "data = {\n",
    "    'Name':Name,\n",
    "    'Age':Age,\n",
    "    'Gender':Gender\n",
    "}"
   ]
  },
  {
   "cell_type": "code",
   "execution_count": 60,
   "id": "3834417a-6228-4557-b99c-63d89b2f1552",
   "metadata": {},
   "outputs": [
    {
     "name": "stdout",
     "output_type": "stream",
     "text": [
      "{'Name': 0     Alice\n",
      "1       BOb\n",
      "2    Claire\n",
      "dtype: object, 'Age': 0    25\n",
      "1    30\n",
      "2    27\n",
      "dtype: int64, 'Gender': 0    Female\n",
      "1      Male\n",
      "2    Female\n",
      "dtype: object}\n"
     ]
    }
   ],
   "source": [
    "print(data)"
   ]
  },
  {
   "cell_type": "code",
   "execution_count": 61,
   "id": "121d80db-fa74-4481-bb28-2e2f014c5ae6",
   "metadata": {},
   "outputs": [
    {
     "data": {
      "text/plain": [
       "dict"
      ]
     },
     "execution_count": 61,
     "metadata": {},
     "output_type": "execute_result"
    }
   ],
   "source": [
    "type(data)"
   ]
  },
  {
   "cell_type": "code",
   "execution_count": null,
   "id": "b87b40bc-b7d1-472a-adc5-198cc786e2f0",
   "metadata": {},
   "outputs": [],
   "source": []
  },
  {
   "cell_type": "code",
   "execution_count": null,
   "id": "1079fdc0-c96c-40d2-b9f8-0173e43bbf26",
   "metadata": {},
   "outputs": [],
   "source": []
  },
  {
   "cell_type": "code",
   "execution_count": null,
   "id": "296526ec-3d55-43a6-8740-20aba0e86ca0",
   "metadata": {},
   "outputs": [],
   "source": [
    "data ={\n",
    "    'Name':\n",
    "}\n"
   ]
  }
 ],
 "metadata": {
  "kernelspec": {
   "display_name": "Python 3 (ipykernel)",
   "language": "python",
   "name": "python3"
  },
  "language_info": {
   "codemirror_mode": {
    "name": "ipython",
    "version": 3
   },
   "file_extension": ".py",
   "mimetype": "text/x-python",
   "name": "python",
   "nbconvert_exporter": "python",
   "pygments_lexer": "ipython3",
   "version": "3.10.8"
  }
 },
 "nbformat": 4,
 "nbformat_minor": 5
}
