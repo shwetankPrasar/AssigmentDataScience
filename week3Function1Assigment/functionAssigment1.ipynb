{
 "cells": [
  {
   "cell_type": "code",
   "execution_count": 24,
   "id": "524e0bab-e521-4c83-bb88-3812e8e327bf",
   "metadata": {},
   "outputs": [
    {
     "name": "stdout",
     "output_type": "stream",
     "text": [
      "[1, 3, 5, 7, 9, 11, 13, 15, 17, 19, 21, 23, 25]\n"
     ]
    }
   ],
   "source": [
    "#Question 1 solution\n",
    "\"\"\"\n",
    "  we use \"def\" keyword to define function.\n",
    "\"\"\"\n",
    "#function to return odd number in range of 1-25\n",
    "def oddList():\n",
    "    listOdd=[]\n",
    "    for i in range(1,26):\n",
    "        if (i%2 != 0):\n",
    "            listOdd.append(i)\n",
    "    return listOdd\n",
    "\n",
    "l = oddList()\n",
    "print(l)\n"
   ]
  },
  {
   "cell_type": "code",
   "execution_count": null,
   "id": "3d24037d-7aa3-424c-ac3c-120e98017eca",
   "metadata": {},
   "outputs": [],
   "source": [
    "#question 2 solution\n",
    "\"\"\" \n",
    "#difference between args and kwargs keyword\n",
    "\n",
    "*args\n",
    "\n",
    "->The *args parameter allows you to pass multiple arguments to a \n",
    "function without explicitly defining them in the function signature.\n",
    "->Inside the function, args is treated as a tuple that contains the passed\n",
    "arguments in the order they were received.\n",
    "\n",
    "*kwargs\n",
    "\n",
    "->The **kwargs parameter allows you to pass key-value pairs of arguments to a\n",
    "function without explicitly defining them in the function signature.\n",
    "->Inside the function, kwargs is treated as a dictionary that contains the passed keyword arguments.\n",
    "\n",
    "\"\"\""
   ]
  },
  {
   "cell_type": "code",
   "execution_count": 25,
   "id": "6665397e-4339-4901-937b-3c2052203aeb",
   "metadata": {},
   "outputs": [],
   "source": [
    "#args\n",
    "def sum(*number):\n",
    "    sum = 0\n",
    "    for i in number:\n",
    "        sum+=i        \n",
    "    print(sum)\n"
   ]
  },
  {
   "cell_type": "code",
   "execution_count": 26,
   "id": "45b0eecc-e0de-4c9f-95c2-4b431d0dee46",
   "metadata": {},
   "outputs": [
    {
     "name": "stdout",
     "output_type": "stream",
     "text": [
      "2\n"
     ]
    }
   ],
   "source": [
    "sum(2)"
   ]
  },
  {
   "cell_type": "code",
   "execution_count": 27,
   "id": "1899f704-27fc-4395-a8c6-4d22280fa3bc",
   "metadata": {},
   "outputs": [
    {
     "name": "stdout",
     "output_type": "stream",
     "text": [
      "5\n"
     ]
    }
   ],
   "source": [
    "sum(2,3)"
   ]
  },
  {
   "cell_type": "code",
   "execution_count": 28,
   "id": "203b692d-d19f-4021-95cd-dc0df95d46c4",
   "metadata": {},
   "outputs": [
    {
     "name": "stdout",
     "output_type": "stream",
     "text": [
      "15\n"
     ]
    }
   ],
   "source": [
    "sum(2,5,8)"
   ]
  },
  {
   "cell_type": "code",
   "execution_count": 29,
   "id": "25c07302-baec-493c-b68b-d966e1fa9c6e",
   "metadata": {},
   "outputs": [],
   "source": [
    "#kwargs\n",
    "def print_person_details(**kwargs):\n",
    "    for key, value in kwargs.items():\n",
    "        print(f\"{key}: {value}\")"
   ]
  },
  {
   "cell_type": "code",
   "execution_count": 30,
   "id": "6f55b434-7faf-46ec-950f-8171eff4ef16",
   "metadata": {},
   "outputs": [
    {
     "name": "stdout",
     "output_type": "stream",
     "text": [
      "name: Shwetank Kumar\n",
      "age: 22\n"
     ]
    }
   ],
   "source": [
    "print_person_details(name='Shwetank Kumar', age=22)"
   ]
  },
  {
   "cell_type": "code",
   "execution_count": null,
   "id": "f9eb0b47-2b2d-4c1c-bd8d-ca9f2cdc462d",
   "metadata": {},
   "outputs": [
    {
     "name": "stdout",
     "output_type": "stream",
     "text": [
      "name: Shwetank Kumar\n",
      "age: 22\n",
      "occupation: Student\n",
      "country: India\n"
     ]
    }
   ],
   "source": [
    "print_person_details(name='Shwetank Kumar', age=22, occupation='Student', country='India')"
   ]
  },
  {
   "cell_type": "code",
   "execution_count": null,
   "id": "5b2e592d-0a6d-42a5-b45a-e609c3d25aa5",
   "metadata": {},
   "outputs": [],
   "source": [
    "#question 3 solution \n",
    "\"\"\"\n",
    "Iterators provide a powerful way to work with large or dynamically generated collections \n",
    "of data because they allow you to access elements efficiently one at a time, without the \n",
    "need to load the entire collection into memory at once. They also provide a consistent \n",
    "interface for iterating over different types of collections,\n",
    "making your code more flexible and reusable.\n",
    "\n",
    "The iterator object has two important methods:\n",
    "\n",
    "iter(): This method initializes the iterator and returns the iterator object itself.\n",
    "next(): This method is used to retrieve the next element from the iterator.\n",
    "\n",
    "\n",
    "\"\"\""
   ]
  },
  {
   "cell_type": "code",
   "execution_count": 40,
   "id": "ffea518d-efd3-4997-b073-96d3c2790a07",
   "metadata": {},
   "outputs": [
    {
     "name": "stdout",
     "output_type": "stream",
     "text": [
      "2\n",
      "4\n",
      "6\n",
      "8\n",
      "10\n"
     ]
    }
   ],
   "source": [
    "l= [2, 4, 6, 8, 10, 12, 14, 16, 18, 20]\n",
    "\n",
    "# Create an iterator object for the list\n",
    "l = iter(l)\n",
    "\n",
    "# Print the first five elements using the iterator\n",
    "for _ in range(5):\n",
    "    element = next(l)\n",
    "    print(element)\n"
   ]
  },
  {
   "cell_type": "code",
   "execution_count": null,
   "id": "d7b17d93-7910-403a-bb21-e346d1faeef3",
   "metadata": {},
   "outputs": [],
   "source": [
    "#question 4 solution \n",
    "\"\"\"\n",
    "a generator function is a special kind of function that uses the yield keyword instead\n",
    "of return to produce a sequence of values. When a generator function is called, it returns\n",
    "an iterator, which can be used to iterate over the values produced by the generator function.\n",
    "\n",
    "The yield keyword is used in generator functions to define points at which the function will \"yield\"\n",
    "a value and temporarily pause its execution. This allows the generator function to produce a sequence\n",
    "of values over time, rather than computing and returning all the values at once.\n",
    "\"\"\""
   ]
  },
  {
   "cell_type": "code",
   "execution_count": 4,
   "id": "2dfeb7d0-42f9-4c2b-ad1c-e0142ebff759",
   "metadata": {},
   "outputs": [],
   "source": [
    "def odd_numbers(n):\n",
    "    for i in range(n):\n",
    "        if i % 2 != 0:\n",
    "            yield i\n"
   ]
  },
  {
   "cell_type": "code",
   "execution_count": 18,
   "id": "7f9b5308-bc96-441c-8aa8-b2a9d40f7cf6",
   "metadata": {},
   "outputs": [
    {
     "name": "stdout",
     "output_type": "stream",
     "text": [
      "1\n",
      "3\n",
      "5\n",
      "7\n",
      "9\n",
      "11\n",
      "13\n",
      "15\n",
      "17\n",
      "19\n"
     ]
    }
   ],
   "source": [
    "x = odd_numbers(100)\n",
    "for _ in range(10):\n",
    "    print(next(x))"
   ]
  },
  {
   "cell_type": "code",
   "execution_count": 63,
   "id": "c373402e-a25e-46da-910b-c18cf1668b11",
   "metadata": {},
   "outputs": [],
   "source": [
    "# question 5 solution \n",
    "import math\n",
    "def primeNumber(num):\n",
    "    for n in range(2,num+1):\n",
    "        flag = True\n",
    "        for i in range(2, int(math.sqrt(n)) + 1):\n",
    "            if n % i == 0:\n",
    "                flag = False\n",
    "                break\n",
    "\n",
    "        if flag:\n",
    "           yield(n)"
   ]
  },
  {
   "cell_type": "code",
   "execution_count": 64,
   "id": "8f06acc0-bec9-4d4c-8eaa-31fbb33ea0d0",
   "metadata": {},
   "outputs": [
    {
     "name": "stdout",
     "output_type": "stream",
     "text": [
      "2\n",
      "3\n",
      "5\n",
      "7\n",
      "11\n",
      "13\n",
      "17\n",
      "19\n",
      "23\n",
      "29\n",
      "31\n",
      "37\n",
      "41\n",
      "43\n",
      "47\n",
      "53\n",
      "59\n",
      "61\n",
      "67\n",
      "71\n"
     ]
    }
   ],
   "source": [
    "x = primeNumber(1000)\n",
    "for _ in range(20):\n",
    "    print(next(x))"
   ]
  },
  {
   "cell_type": "code",
   "execution_count": 81,
   "id": "e669b0bc-a829-4b91-a203-e148bebece17",
   "metadata": {},
   "outputs": [
    {
     "name": "stdout",
     "output_type": "stream",
     "text": [
      "0\n",
      "1\n",
      "1\n",
      "2\n",
      "3\n",
      "5\n",
      "8\n",
      "13\n",
      "21\n",
      "34\n"
     ]
    }
   ],
   "source": [
    "#Question 6 solution\n",
    "i, j = 0,1\n",
    "count = 0\n",
    "while count<10:\n",
    "    print(i)\n",
    "    i, j = j,i+j\n",
    "    count += 1"
   ]
  },
  {
   "cell_type": "code",
   "execution_count": 83,
   "id": "ed20bff4-075c-439d-8882-55a9c8788cea",
   "metadata": {},
   "outputs": [
    {
     "name": "stdout",
     "output_type": "stream",
     "text": [
      "['p', 'w', 's', 'k', 'i', 'l', 'l', 's']\n"
     ]
    }
   ],
   "source": [
    "#Question 7 solution\n",
    "string = 'pwskills'\n",
    "iterator = iter(string)\n",
    "l = []\n",
    "for _ in range(len(string)):\n",
    "    l.append((next(iterator)))\n",
    "print(l)"
   ]
  },
  {
   "cell_type": "code",
   "execution_count": 93,
   "id": "dca9e36d-09ac-4a58-b666-65206cc01757",
   "metadata": {},
   "outputs": [],
   "source": [
    "#Question 8 solution\n",
    "def isPallindrome():\n",
    "    num = int(input(\"Enter number to check number is pallindrome or not:-\"))\n",
    "    num1 = num\n",
    "    temp = 0\n",
    "    while(num!=0):\n",
    "       rem = num % 10\n",
    "       temp = temp*10 + rem\n",
    "       num = num //10\n",
    "    if(num1 == temp):\n",
    "        print(num1,\"is Palindrome\")\n",
    "\n",
    "    else:\n",
    "        print(num1,\"is not Palindrome\")"
   ]
  },
  {
   "cell_type": "code",
   "execution_count": 94,
   "id": "cb6a0972-2da8-4898-b538-054f4888c356",
   "metadata": {},
   "outputs": [
    {
     "name": "stdin",
     "output_type": "stream",
     "text": [
      "Enter number to check number is pallindrome or not:- 121\n"
     ]
    },
    {
     "name": "stdout",
     "output_type": "stream",
     "text": [
      "121 is Palindrome\n"
     ]
    }
   ],
   "source": [
    "isPallindrome()"
   ]
  },
  {
   "cell_type": "code",
   "execution_count": 95,
   "id": "49a51888-7eec-4215-a27e-30b7186ddc55",
   "metadata": {},
   "outputs": [
    {
     "name": "stdin",
     "output_type": "stream",
     "text": [
      "Enter number to check number is pallindrome or not:- 124\n"
     ]
    },
    {
     "name": "stdout",
     "output_type": "stream",
     "text": [
      "124 is not Palindrome\n"
     ]
    }
   ],
   "source": [
    "isPallindrome()"
   ]
  },
  {
   "cell_type": "code",
   "execution_count": 99,
   "id": "142afc2e-b586-418a-a6b2-791b277c37cd",
   "metadata": {},
   "outputs": [
    {
     "ename": "SyntaxError",
     "evalue": "invalid syntax. Perhaps you forgot a comma? (2452174006.py, line 5)",
     "output_type": "error",
     "traceback": [
      "\u001b[0;36m  Cell \u001b[0;32mIn[99], line 5\u001b[0;36m\u001b[0m\n\u001b[0;31m    l1 = list(filter(lamda l : l%2 == 0 , l))\u001b[0m\n\u001b[0m                     ^\u001b[0m\n\u001b[0;31mSyntaxError\u001b[0m\u001b[0;31m:\u001b[0m invalid syntax. Perhaps you forgot a comma?\n"
     ]
    }
   ],
   "source": [
    "#Question 9 Solution\n",
    "l = []\n",
    "for i in range(1,101):\n",
    "    l.append(i)\n",
    "l1 = list(filter(lamda l : l%2 == 0 , l))"
   ]
  },
  {
   "cell_type": "code",
   "execution_count": null,
   "id": "f20018f6-9bd6-4a94-a440-c04d1b411542",
   "metadata": {},
   "outputs": [],
   "source": []
  }
 ],
 "metadata": {
  "kernelspec": {
   "display_name": "Python 3 (ipykernel)",
   "language": "python",
   "name": "python3"
  },
  "language_info": {
   "codemirror_mode": {
    "name": "ipython",
    "version": 3
   },
   "file_extension": ".py",
   "mimetype": "text/x-python",
   "name": "python",
   "nbconvert_exporter": "python",
   "pygments_lexer": "ipython3",
   "version": "3.10.8"
  }
 },
 "nbformat": 4,
 "nbformat_minor": 5
}
