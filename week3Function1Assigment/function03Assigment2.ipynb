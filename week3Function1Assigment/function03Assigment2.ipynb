{
 "cells": [
  {
   "cell_type": "markdown",
   "id": "ffc87ea9-62c8-4de1-8d71-0b73697e9e34",
   "metadata": {},
   "source": [
    "Q1. Create a python program to sort the given list of tuples based on integer value using a\n",
    "lambda function.\n",
    "[('Sachin Tendulkar', 34357), ('Ricky Ponting', 27483), ('Jack Kallis', 25534), ('Virat Kohli', 24936)]"
   ]
  },
  {
   "cell_type": "code",
   "execution_count": 72,
   "id": "b96345cb-fd1d-4376-95ce-d726107ab372",
   "metadata": {},
   "outputs": [],
   "source": [
    "list = [('Sachin Tendulkar', 34357), ('Ricky Ponting', 27483), ('Jack Kallis', 25534), ('Virat Kohli', 24936)]"
   ]
  },
  {
   "cell_type": "code",
   "execution_count": 73,
   "id": "c389af1f-8e81-4867-b28b-983dae04a147",
   "metadata": {},
   "outputs": [],
   "source": [
    "list = sorted(list,key = lambda x:x[1])"
   ]
  },
  {
   "cell_type": "code",
   "execution_count": 74,
   "id": "2fb72d6e-3022-476f-8595-75cdc957e934",
   "metadata": {},
   "outputs": [
    {
     "data": {
      "text/plain": [
       "[('Virat Kohli', 24936),\n",
       " ('Jack Kallis', 25534),\n",
       " ('Ricky Ponting', 27483),\n",
       " ('Sachin Tendulkar', 34357)]"
      ]
     },
     "execution_count": 74,
     "metadata": {},
     "output_type": "execute_result"
    }
   ],
   "source": [
    "list"
   ]
  },
  {
   "cell_type": "markdown",
   "id": "ba3dcb1c-c272-4ea1-95ee-1a2c9938d986",
   "metadata": {},
   "source": [
    "Q2. Write a Python Program to find the squares of all the numbers in the given list of integers using\n",
    "lambda and map functions.\n",
    "[1, 2, 3, 4, 5, 6, 7, 8, 9, 10]"
   ]
  },
  {
   "cell_type": "code",
   "execution_count": 75,
   "id": "43d94b78-121e-4008-aab6-8aaa9e888d17",
   "metadata": {},
   "outputs": [],
   "source": [
    "numbers = [1, 2, 3, 4, 5, 6, 7, 8, 9, 10]\n",
    "\n",
    "squares = map(lambda x: x**2, numbers)"
   ]
  },
  {
   "cell_type": "code",
   "execution_count": 76,
   "id": "d8990b82-3b28-40cf-90ef-8cd3893d7c80",
   "metadata": {},
   "outputs": [],
   "source": [
    "out = []\n",
    "for i in squares:\n",
    "    out.append(i)"
   ]
  },
  {
   "cell_type": "code",
   "execution_count": 77,
   "id": "40908f40-633d-4796-b063-d8fdaaabc3a4",
   "metadata": {},
   "outputs": [
    {
     "data": {
      "text/plain": [
       "[1, 4, 9, 16, 25, 36, 49, 64, 81, 100]"
      ]
     },
     "execution_count": 77,
     "metadata": {},
     "output_type": "execute_result"
    }
   ],
   "source": [
    "out"
   ]
  },
  {
   "cell_type": "markdown",
   "id": "94523871-8c7e-447a-b826-9f3d4701a13e",
   "metadata": {},
   "source": [
    "Q3. Write a python program to convert the given list of integers into a tuple of strings. Use map and\n",
    "lambda functions\n",
    "Given String: [1, 2, 3, 4, 5, 6, 7, 8, 9, 10]\n",
    "Expected output: ('1', '2', '3', '4', '5', '6', '7', '8', '9', '10')\n"
   ]
  },
  {
   "cell_type": "code",
   "execution_count": 78,
   "id": "3ecf114e-1d0f-4d84-a487-a5f033d5402f",
   "metadata": {},
   "outputs": [],
   "source": [
    "l = [1, 2, 3, 4, 5, 6, 7, 8, 9, 10] \n"
   ]
  },
  {
   "cell_type": "code",
   "execution_count": 79,
   "id": "e04fdc00-b79f-455c-ba0a-1fda06b32c4f",
   "metadata": {},
   "outputs": [],
   "source": [
    "l1 = tuple(map(lambda x : str(x),l))"
   ]
  },
  {
   "cell_type": "code",
   "execution_count": 80,
   "id": "5e2a35ea-c8f5-4c55-9573-95f6b3306a3b",
   "metadata": {},
   "outputs": [
    {
     "data": {
      "text/plain": [
       "('1', '2', '3', '4', '5', '6', '7', '8', '9', '10')"
      ]
     },
     "execution_count": 80,
     "metadata": {},
     "output_type": "execute_result"
    }
   ],
   "source": [
    "l1"
   ]
  },
  {
   "cell_type": "markdown",
   "id": "ac7a5292-477d-4120-bb1b-6a5fba58c1c8",
   "metadata": {},
   "source": [
    "Q4. Write a python program using reduce function to compute the product of a list containing numbers\n",
    "from 1 to 25."
   ]
  },
  {
   "cell_type": "code",
   "execution_count": 2,
   "id": "0971c77e-c342-4af6-a9b5-26af9f27f2fb",
   "metadata": {},
   "outputs": [],
   "source": [
    "l = []\n",
    "for i in range(1,26):\n",
    "    l.append(i)\n"
   ]
  },
  {
   "cell_type": "code",
   "execution_count": 3,
   "id": "7a8c8b6a-2c45-44d0-9df3-10fc9664070b",
   "metadata": {},
   "outputs": [],
   "source": [
    "from functools import reduce\n",
    "result = reduce(lambda x,y:x*y,l)"
   ]
  },
  {
   "cell_type": "code",
   "execution_count": 4,
   "id": "863da564-58c4-49a5-a281-20626a52bfd0",
   "metadata": {},
   "outputs": [
    {
     "data": {
      "text/plain": [
       "15511210043330985984000000"
      ]
     },
     "execution_count": 4,
     "metadata": {},
     "output_type": "execute_result"
    }
   ],
   "source": [
    "result"
   ]
  },
  {
   "cell_type": "markdown",
   "id": "d2ba5daa-660a-4d13-8d84-ba22d06ab6f1",
   "metadata": {},
   "source": [
    "Q5. Write a python program to filter the numbers in a given list that are divisible by 2 and 3 using the\n",
    "filter function.\n",
    "[2, 3, 6, 9, 27, 60, 90, 120, 55, 46]"
   ]
  },
  {
   "cell_type": "code",
   "execution_count": 5,
   "id": "a9044a94-03a3-4b82-830a-6d796d6a0e82",
   "metadata": {},
   "outputs": [],
   "source": [
    "list =  [2, 3, 6, 9, 27, 60, 90, 120, 55, 46]"
   ]
  },
  {
   "cell_type": "code",
   "execution_count": 6,
   "id": "8215eeb4-eb87-414c-94d1-e250206e9f48",
   "metadata": {},
   "outputs": [],
   "source": [
    "l1 = filter(lambda x : x%2 == 0 and x%3 ==0,list)"
   ]
  },
  {
   "cell_type": "code",
   "execution_count": 7,
   "id": "a7a2b396-2640-4ecb-8e15-d601791b89f1",
   "metadata": {},
   "outputs": [],
   "source": [
    "out = []\n",
    "for i in l1:\n",
    "    out.append(i)"
   ]
  },
  {
   "cell_type": "code",
   "execution_count": 8,
   "id": "67df4ea9-aaa3-478a-864a-47e8b33ae8a6",
   "metadata": {},
   "outputs": [
    {
     "data": {
      "text/plain": [
       "[6, 60, 90, 120]"
      ]
     },
     "execution_count": 8,
     "metadata": {},
     "output_type": "execute_result"
    }
   ],
   "source": [
    "out"
   ]
  },
  {
   "cell_type": "markdown",
   "id": "16d679a4-9d5b-48d1-b7e1-5c691fe4b374",
   "metadata": {},
   "source": [
    "Q6. Write a python program to find palindromes in the given list of strings using lambda and filter\n",
    "function.\n",
    "['python', 'php', 'aba', 'radar', 'level']"
   ]
  },
  {
   "cell_type": "code",
   "execution_count": 9,
   "id": "18edbbd8-8f86-42c3-810a-0b63da325b2e",
   "metadata": {},
   "outputs": [],
   "source": [
    "list = ['python', 'php', 'aba', 'radar', 'level']\n",
    "l1 = filter(lambda x : x == x[::-1],list)"
   ]
  },
  {
   "cell_type": "code",
   "execution_count": 10,
   "id": "e4741e85-8298-45dc-a356-03381d73139c",
   "metadata": {},
   "outputs": [],
   "source": [
    "out = []\n",
    "for i in l1:\n",
    "    out.append(i)"
   ]
  },
  {
   "cell_type": "code",
   "execution_count": 11,
   "id": "d8109d08-f37b-4b94-9dc1-0a3f81a74932",
   "metadata": {},
   "outputs": [
    {
     "data": {
      "text/plain": [
       "['php', 'aba', 'radar', 'level']"
      ]
     },
     "execution_count": 11,
     "metadata": {},
     "output_type": "execute_result"
    }
   ],
   "source": [
    "out"
   ]
  }
 ],
 "metadata": {
  "kernelspec": {
   "display_name": "Python 3 (ipykernel)",
   "language": "python",
   "name": "python3"
  },
  "language_info": {
   "codemirror_mode": {
    "name": "ipython",
    "version": 3
   },
   "file_extension": ".py",
   "mimetype": "text/x-python",
   "name": "python",
   "nbconvert_exporter": "python",
   "pygments_lexer": "ipython3",
   "version": "3.10.8"
  }
 },
 "nbformat": 4,
 "nbformat_minor": 5
}
